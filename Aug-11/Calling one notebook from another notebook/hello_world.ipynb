{
  "nbformat": 4,
  "nbformat_minor": 0,
  "metadata": {
    "colab": {
      "provenance": []
    },
    "kernelspec": {
      "name": "python3",
      "display_name": "Python 3"
    },
    "language_info": {
      "name": "python"
    }
  },
  "cells": [
    {
      "cell_type": "code",
      "source": [
        "# hello_world.ipynb\n",
        "def say_hello():\n",
        "    return \"Hello, World!\""
      ],
      "metadata": {
        "id": "6LWL08ZMCB_A"
      },
      "execution_count": 6,
      "outputs": []
    },
    {
      "cell_type": "code",
      "source": [
        "def greet(name):\n",
        "    return f\"Hello, {name}!\""
      ],
      "metadata": {
        "id": "WQUwfvyYBaXi"
      },
      "execution_count": 7,
      "outputs": []
    }
  ]
}