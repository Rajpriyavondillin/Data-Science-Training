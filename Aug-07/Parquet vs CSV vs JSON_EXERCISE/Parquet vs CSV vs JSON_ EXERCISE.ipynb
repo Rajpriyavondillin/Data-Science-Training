{
 "cells": [
  {
   "cell_type": "markdown",
   "metadata": {
    "application/vnd.databricks.v1+cell": {
     "cellMetadata": {},
     "inputWidgets": {},
     "nuid": "d9db3569-fc8a-47d1-8df7-6a8d72f0f0fd",
     "showTitle": false,
     "tableResultSettingsMap": {},
     "title": ""
    }
   },
   "source": [
    "# Parquet vs CSV vs JSON: EXERCISE"
   ]
  },
  {
   "cell_type": "markdown",
   "metadata": {
    "application/vnd.databricks.v1+cell": {
     "cellMetadata": {},
     "inputWidgets": {},
     "nuid": "dae7b43b-e753-4bc1-b752-46c81cc32dfc",
     "showTitle": false,
     "tableResultSettingsMap": {},
     "title": ""
    }
   },
   "source": [
    "Tasks & Questions (15 Total)\n",
    "1. Read the above data from CSV into a DataFrame and print the schema.\n",
    "2. Read the same data from JSON and compare with the CSV schema. Any differences?\n",
    "3. Convert the CSV data into Parquet format and save to disk.\n",
    "4. Measure the size of CSV vs JSON vs Parquet on disk. Which one is smallest?\n",
    "5. Add a column total_revenue = price * quantity for each record.\n",
    "6. Find the top 3 products with the highest total revenue.\n",
    "7. Filter and display only Furniture products with price > 3000.\n",
    "8. Create a new column price_band with values:\n",
    "'High' if price > 10000\n",
    "'Medium' if 3000 < price <= 10000\n",
    "'Low' if price ≤ 3000\n",
    "9. Group by category and calculate total quantity sold.\n",
    "10. Calculate average price of products for each category.\n",
    "11. Count how many products fall in each price_band .\n",
    "12. Write the filtered Electronics products (price > 5000) into a Parquet file.\n",
    "13. Write the Stationery products into a JSON file.\n",
    "14. Load Parquet back and run a query to find which category has highest total\n",
    "revenue.\n",
    "15. BONUS: Create a temporary view from the DataFrame and run Spark SQL to find all\n",
    "products with quantity > 100 and price < 1000."
   ]
  },
  {
   "cell_type": "code",
   "execution_count": 0,
   "metadata": {
    "application/vnd.databricks.v1+cell": {
     "cellMetadata": {
      "byteLimit": 2048000,
      "rowLimit": 10000
     },
     "inputWidgets": {},
     "nuid": "85ae22be-eb66-4f86-b12b-48b5ea4a4c7d",
     "showTitle": false,
     "tableResultSettingsMap": {},
     "title": ""
    }
   },
   "outputs": [
    {
     "output_type": "stream",
     "name": "stdout",
     "output_type": "stream",
     "text": [
      "root\n |-- product_id: integer (nullable = true)\n |-- product_name: string (nullable = true)\n |-- category: string (nullable = true)\n |-- price: integer (nullable = true)\n |-- quantity: integer (nullable = true)\n\n"
     ]
    }
   ],
   "source": [
    "# 1. Read the above data from CSV into a DataFrame and print the schema.\n",
    "df_csv = spark.read.option(\"header\", True).option(\"inferSchema\", True).csv(\"dbfs:/FileStore/tables/Products-1.csv\")\n",
    "df_csv.printSchema()"
   ]
  },
  {
   "cell_type": "code",
   "execution_count": 0,
   "metadata": {
    "application/vnd.databricks.v1+cell": {
     "cellMetadata": {
      "byteLimit": 2048000,
      "rowLimit": 10000
     },
     "inputWidgets": {},
     "nuid": "6ec72316-2526-4bff-a059-fad8ac836833",
     "showTitle": false,
     "tableResultSettingsMap": {},
     "title": ""
    }
   },
   "outputs": [
    {
     "output_type": "stream",
     "name": "stdout",
     "output_type": "stream",
     "text": [
      "root\n |-- category: string (nullable = true)\n |-- price: long (nullable = true)\n |-- product_id: long (nullable = true)\n |-- product_name: string (nullable = true)\n |-- quantity: long (nullable = true)\n\n"
     ]
    }
   ],
   "source": [
    "# 2. Read the same data from JSON and compare with the CSV schema. Any differences?\n",
    "df_json = spark.read.option(\"inferSchema\", True).json(\"dbfs:/FileStore/tables/Products-1.json\")\n",
    "df_json.printSchema()"
   ]
  },
  {
   "cell_type": "code",
   "execution_count": 0,
   "metadata": {
    "application/vnd.databricks.v1+cell": {
     "cellMetadata": {
      "byteLimit": 2048000,
      "rowLimit": 10000
     },
     "inputWidgets": {},
     "nuid": "cdbe01aa-cae3-46aa-8026-0a0f8be89eba",
     "showTitle": false,
     "tableResultSettingsMap": {},
     "title": ""
    }
   },
   "outputs": [
    {
     "output_type": "stream",
     "name": "stdout",
     "output_type": "stream",
     "text": [
      "CSV Size: 364 bytes\nJSON Size: 955 bytes\nParquet Size: 2833 bytes\n"
     ]
    }
   ],
   "source": [
    "# 3. Convert the CSV data into Parquet format and save to disk\n",
    "df_csv.write.mode(\"overwrite\").parquet(\"dbfs:/FileStore/tables/products_parquet\")\n",
    "\n",
    "# 4. Measure the size of CSV vs JSON vs Parquet on disk\n",
    "csv_size = dbutils.fs.ls(\"dbfs:/FileStore/tables/Products-1.csv\")[0].size\n",
    "json_size = dbutils.fs.ls(\"dbfs:/FileStore/tables/Products-1.json\")[0].size\n",
    "\n",
    "# For Parquet, we need to sum the sizes of all files in the directory\n",
    "parquet_files = dbutils.fs.ls(\"dbfs:/FileStore/tables/products_parquet\")\n",
    "parquet_size = sum(f.size for f in parquet_files)\n",
    "\n",
    "# Print file sizes\n",
    "print(f\"CSV Size: {csv_size} bytes\")\n",
    "print(f\"JSON Size: {json_size} bytes\")\n",
    "print(f\"Parquet Size: {parquet_size} bytes\")\n",
    "\n",
    "\n",
    "# For small datasets, CSV is smaller.\n",
    "# For large-scale analytics, Parquet is much more efficient in storage, reading speed, and querying (especially with Spark or Hive)."
   ]
  },
  {
   "cell_type": "code",
   "execution_count": 0,
   "metadata": {
    "application/vnd.databricks.v1+cell": {
     "cellMetadata": {
      "byteLimit": 2048000,
      "rowLimit": 10000
     },
     "inputWidgets": {},
     "nuid": "13c966b7-aba7-44c1-a09b-f94c39988da8",
     "showTitle": false,
     "tableResultSettingsMap": {},
     "title": ""
    }
   },
   "outputs": [
    {
     "output_type": "display_data",
     "data": {
      "text/html": [
       "<style scoped>\n",
       "  .table-result-container {\n",
       "    max-height: 300px;\n",
       "    overflow: auto;\n",
       "  }\n",
       "  table, th, td {\n",
       "    border: 1px solid black;\n",
       "    border-collapse: collapse;\n",
       "  }\n",
       "  th, td {\n",
       "    padding: 5px;\n",
       "  }\n",
       "  th {\n",
       "    text-align: left;\n",
       "  }\n",
       "</style><div class='table-result-container'><table class='table-result'><thead style='background-color: white'><tr><th>product_id</th><th>product_name</th><th>category</th><th>price</th><th>quantity</th><th>total_revenue</th></tr></thead><tbody><tr><td>101</td><td>Laptop</td><td>Electronics</td><td>55000</td><td>10</td><td>550000</td></tr><tr><td>102</td><td>Smartphone</td><td>Electronics</td><td>30000</td><td>25</td><td>750000</td></tr><tr><td>103</td><td>Chair</td><td>Furniture</td><td>2500</td><td>50</td><td>125000</td></tr><tr><td>104</td><td>Book</td><td>Stationery</td><td>400</td><td>200</td><td>80000</td></tr><tr><td>105</td><td>Headphones</td><td>Electronics</td><td>1500</td><td>100</td><td>150000</td></tr><tr><td>106</td><td>Table</td><td>Furniture</td><td>3200</td><td>40</td><td>128000</td></tr><tr><td>107</td><td>Pen</td><td>Stationery</td><td>20</td><td>500</td><td>10000</td></tr><tr><td>108</td><td>Monitor</td><td>Electronics</td><td>12000</td><td>15</td><td>180000</td></tr><tr><td>109</td><td>Notebook</td><td>Stationery</td><td>60</td><td>300</td><td>18000</td></tr><tr><td>110</td><td>Sofa</td><td>Furniture</td><td>45000</td><td>5</td><td>225000</td></tr></tbody></table></div>"
      ]
     },
     "metadata": {
      "application/vnd.databricks.v1+output": {
       "addedWidgets": {},
       "aggData": [],
       "aggError": "",
       "aggOverflow": false,
       "aggSchema": [],
       "aggSeriesLimitReached": false,
       "aggType": "",
       "arguments": {},
       "columnCustomDisplayInfos": {},
       "data": [
        [
         101,
         "Laptop",
         "Electronics",
         55000,
         10,
         550000
        ],
        [
         102,
         "Smartphone",
         "Electronics",
         30000,
         25,
         750000
        ],
        [
         103,
         "Chair",
         "Furniture",
         2500,
         50,
         125000
        ],
        [
         104,
         "Book",
         "Stationery",
         400,
         200,
         80000
        ],
        [
         105,
         "Headphones",
         "Electronics",
         1500,
         100,
         150000
        ],
        [
         106,
         "Table",
         "Furniture",
         3200,
         40,
         128000
        ],
        [
         107,
         "Pen",
         "Stationery",
         20,
         500,
         10000
        ],
        [
         108,
         "Monitor",
         "Electronics",
         12000,
         15,
         180000
        ],
        [
         109,
         "Notebook",
         "Stationery",
         60,
         300,
         18000
        ],
        [
         110,
         "Sofa",
         "Furniture",
         45000,
         5,
         225000
        ]
       ],
       "datasetInfos": [],
       "dbfsResultPath": null,
       "isJsonSchema": true,
       "metadata": {},
       "overflow": false,
       "plotOptions": {
        "customPlotOptions": {},
        "displayType": "table",
        "pivotAggregation": null,
        "pivotColumns": null,
        "xColumns": null,
        "yColumns": null
       },
       "removedWidgets": [],
       "schema": [
        {
         "metadata": "{}",
         "name": "product_id",
         "type": "\"integer\""
        },
        {
         "metadata": "{}",
         "name": "product_name",
         "type": "\"string\""
        },
        {
         "metadata": "{}",
         "name": "category",
         "type": "\"string\""
        },
        {
         "metadata": "{}",
         "name": "price",
         "type": "\"integer\""
        },
        {
         "metadata": "{}",
         "name": "quantity",
         "type": "\"integer\""
        },
        {
         "metadata": "{}",
         "name": "total_revenue",
         "type": "\"integer\""
        }
       ],
       "type": "table"
      }
     },
     "output_type": "display_data"
    }
   ],
   "source": [
    "# 5. Add a column total_revenue = price * quantity for each record.\n",
    "from pyspark.sql.functions import col, when\n",
    "\n",
    "df = df_csv.withColumn(\"total_revenue\", col(\"price\") * col(\"quantity\"))\n",
    "display(df)"
   ]
  },
  {
   "cell_type": "code",
   "execution_count": 0,
   "metadata": {
    "application/vnd.databricks.v1+cell": {
     "cellMetadata": {
      "byteLimit": 2048000,
      "rowLimit": 10000
     },
     "inputWidgets": {},
     "nuid": "9e31f3c4-3bdb-4560-b949-bb83151cc748",
     "showTitle": false,
     "tableResultSettingsMap": {},
     "title": ""
    }
   },
   "outputs": [
    {
     "output_type": "display_data",
     "data": {
      "text/html": [
       "<style scoped>\n",
       "  .table-result-container {\n",
       "    max-height: 300px;\n",
       "    overflow: auto;\n",
       "  }\n",
       "  table, th, td {\n",
       "    border: 1px solid black;\n",
       "    border-collapse: collapse;\n",
       "  }\n",
       "  th, td {\n",
       "    padding: 5px;\n",
       "  }\n",
       "  th {\n",
       "    text-align: left;\n",
       "  }\n",
       "</style><div class='table-result-container'><table class='table-result'><thead style='background-color: white'><tr><th>product_id</th><th>product_name</th><th>category</th><th>price</th><th>quantity</th><th>total_revenue</th></tr></thead><tbody><tr><td>102</td><td>Smartphone</td><td>Electronics</td><td>30000</td><td>25</td><td>750000</td></tr><tr><td>101</td><td>Laptop</td><td>Electronics</td><td>55000</td><td>10</td><td>550000</td></tr><tr><td>110</td><td>Sofa</td><td>Furniture</td><td>45000</td><td>5</td><td>225000</td></tr></tbody></table></div>"
      ]
     },
     "metadata": {
      "application/vnd.databricks.v1+output": {
       "addedWidgets": {},
       "aggData": [],
       "aggError": "",
       "aggOverflow": false,
       "aggSchema": [],
       "aggSeriesLimitReached": false,
       "aggType": "",
       "arguments": {},
       "columnCustomDisplayInfos": {},
       "data": [
        [
         102,
         "Smartphone",
         "Electronics",
         30000,
         25,
         750000
        ],
        [
         101,
         "Laptop",
         "Electronics",
         55000,
         10,
         550000
        ],
        [
         110,
         "Sofa",
         "Furniture",
         45000,
         5,
         225000
        ]
       ],
       "datasetInfos": [],
       "dbfsResultPath": null,
       "isJsonSchema": true,
       "metadata": {},
       "overflow": false,
       "plotOptions": {
        "customPlotOptions": {},
        "displayType": "table",
        "pivotAggregation": null,
        "pivotColumns": null,
        "xColumns": null,
        "yColumns": null
       },
       "removedWidgets": [],
       "schema": [
        {
         "metadata": "{}",
         "name": "product_id",
         "type": "\"integer\""
        },
        {
         "metadata": "{}",
         "name": "product_name",
         "type": "\"string\""
        },
        {
         "metadata": "{}",
         "name": "category",
         "type": "\"string\""
        },
        {
         "metadata": "{}",
         "name": "price",
         "type": "\"integer\""
        },
        {
         "metadata": "{}",
         "name": "quantity",
         "type": "\"integer\""
        },
        {
         "metadata": "{}",
         "name": "total_revenue",
         "type": "\"integer\""
        }
       ],
       "type": "table"
      }
     },
     "output_type": "display_data"
    }
   ],
   "source": [
    "# 6. Find the top 3 products with the highest total revenue.\n",
    "top_3 = df.orderBy(col(\"total_revenue\").desc()).limit(3)\n",
    "display(top_3)"
   ]
  },
  {
   "cell_type": "code",
   "execution_count": 0,
   "metadata": {
    "application/vnd.databricks.v1+cell": {
     "cellMetadata": {
      "byteLimit": 2048000,
      "rowLimit": 10000
     },
     "inputWidgets": {},
     "nuid": "780d00dc-8498-4e88-ad07-a6353be2ec91",
     "showTitle": false,
     "tableResultSettingsMap": {},
     "title": ""
    }
   },
   "outputs": [
    {
     "output_type": "display_data",
     "data": {
      "text/html": [
       "<style scoped>\n",
       "  .table-result-container {\n",
       "    max-height: 300px;\n",
       "    overflow: auto;\n",
       "  }\n",
       "  table, th, td {\n",
       "    border: 1px solid black;\n",
       "    border-collapse: collapse;\n",
       "  }\n",
       "  th, td {\n",
       "    padding: 5px;\n",
       "  }\n",
       "  th {\n",
       "    text-align: left;\n",
       "  }\n",
       "</style><div class='table-result-container'><table class='table-result'><thead style='background-color: white'><tr><th>product_id</th><th>product_name</th><th>category</th><th>price</th><th>quantity</th><th>total_revenue</th></tr></thead><tbody><tr><td>106</td><td>Table</td><td>Furniture</td><td>3200</td><td>40</td><td>128000</td></tr><tr><td>110</td><td>Sofa</td><td>Furniture</td><td>45000</td><td>5</td><td>225000</td></tr></tbody></table></div>"
      ]
     },
     "metadata": {
      "application/vnd.databricks.v1+output": {
       "addedWidgets": {},
       "aggData": [],
       "aggError": "",
       "aggOverflow": false,
       "aggSchema": [],
       "aggSeriesLimitReached": false,
       "aggType": "",
       "arguments": {},
       "columnCustomDisplayInfos": {},
       "data": [
        [
         106,
         "Table",
         "Furniture",
         3200,
         40,
         128000
        ],
        [
         110,
         "Sofa",
         "Furniture",
         45000,
         5,
         225000
        ]
       ],
       "datasetInfos": [],
       "dbfsResultPath": null,
       "isJsonSchema": true,
       "metadata": {},
       "overflow": false,
       "plotOptions": {
        "customPlotOptions": {},
        "displayType": "table",
        "pivotAggregation": null,
        "pivotColumns": null,
        "xColumns": null,
        "yColumns": null
       },
       "removedWidgets": [],
       "schema": [
        {
         "metadata": "{}",
         "name": "product_id",
         "type": "\"integer\""
        },
        {
         "metadata": "{}",
         "name": "product_name",
         "type": "\"string\""
        },
        {
         "metadata": "{}",
         "name": "category",
         "type": "\"string\""
        },
        {
         "metadata": "{}",
         "name": "price",
         "type": "\"integer\""
        },
        {
         "metadata": "{}",
         "name": "quantity",
         "type": "\"integer\""
        },
        {
         "metadata": "{}",
         "name": "total_revenue",
         "type": "\"integer\""
        }
       ],
       "type": "table"
      }
     },
     "output_type": "display_data"
    }
   ],
   "source": [
    "# 7. Filter and display only Furniture products with price > 3000.\n",
    "furniture_products = df.filter((col(\"category\") == \"Furniture\") & (col(\"price\") > 3000))\n",
    "display(furniture_products)"
   ]
  },
  {
   "cell_type": "code",
   "execution_count": 0,
   "metadata": {
    "application/vnd.databricks.v1+cell": {
     "cellMetadata": {
      "byteLimit": 2048000,
      "rowLimit": 10000
     },
     "inputWidgets": {},
     "nuid": "cbe3e5fc-d67c-4a49-be26-5f24762d3731",
     "showTitle": false,
     "tableResultSettingsMap": {},
     "title": ""
    }
   },
   "outputs": [
    {
     "output_type": "display_data",
     "data": {
      "text/html": [
       "<style scoped>\n",
       "  .table-result-container {\n",
       "    max-height: 300px;\n",
       "    overflow: auto;\n",
       "  }\n",
       "  table, th, td {\n",
       "    border: 1px solid black;\n",
       "    border-collapse: collapse;\n",
       "  }\n",
       "  th, td {\n",
       "    padding: 5px;\n",
       "  }\n",
       "  th {\n",
       "    text-align: left;\n",
       "  }\n",
       "</style><div class='table-result-container'><table class='table-result'><thead style='background-color: white'><tr><th>product_id</th><th>product_name</th><th>category</th><th>price</th><th>quantity</th><th>total_revenue</th><th>price_band</th></tr></thead><tbody><tr><td>101</td><td>Laptop</td><td>Electronics</td><td>55000</td><td>10</td><td>550000</td><td>High</td></tr><tr><td>102</td><td>Smartphone</td><td>Electronics</td><td>30000</td><td>25</td><td>750000</td><td>High</td></tr><tr><td>103</td><td>Chair</td><td>Furniture</td><td>2500</td><td>50</td><td>125000</td><td>Low</td></tr><tr><td>104</td><td>Book</td><td>Stationery</td><td>400</td><td>200</td><td>80000</td><td>Low</td></tr><tr><td>105</td><td>Headphones</td><td>Electronics</td><td>1500</td><td>100</td><td>150000</td><td>Low</td></tr><tr><td>106</td><td>Table</td><td>Furniture</td><td>3200</td><td>40</td><td>128000</td><td>Medium</td></tr><tr><td>107</td><td>Pen</td><td>Stationery</td><td>20</td><td>500</td><td>10000</td><td>Low</td></tr><tr><td>108</td><td>Monitor</td><td>Electronics</td><td>12000</td><td>15</td><td>180000</td><td>High</td></tr><tr><td>109</td><td>Notebook</td><td>Stationery</td><td>60</td><td>300</td><td>18000</td><td>Low</td></tr><tr><td>110</td><td>Sofa</td><td>Furniture</td><td>45000</td><td>5</td><td>225000</td><td>High</td></tr></tbody></table></div>"
      ]
     },
     "metadata": {
      "application/vnd.databricks.v1+output": {
       "addedWidgets": {},
       "aggData": [],
       "aggError": "",
       "aggOverflow": false,
       "aggSchema": [],
       "aggSeriesLimitReached": false,
       "aggType": "",
       "arguments": {},
       "columnCustomDisplayInfos": {},
       "data": [
        [
         101,
         "Laptop",
         "Electronics",
         55000,
         10,
         550000,
         "High"
        ],
        [
         102,
         "Smartphone",
         "Electronics",
         30000,
         25,
         750000,
         "High"
        ],
        [
         103,
         "Chair",
         "Furniture",
         2500,
         50,
         125000,
         "Low"
        ],
        [
         104,
         "Book",
         "Stationery",
         400,
         200,
         80000,
         "Low"
        ],
        [
         105,
         "Headphones",
         "Electronics",
         1500,
         100,
         150000,
         "Low"
        ],
        [
         106,
         "Table",
         "Furniture",
         3200,
         40,
         128000,
         "Medium"
        ],
        [
         107,
         "Pen",
         "Stationery",
         20,
         500,
         10000,
         "Low"
        ],
        [
         108,
         "Monitor",
         "Electronics",
         12000,
         15,
         180000,
         "High"
        ],
        [
         109,
         "Notebook",
         "Stationery",
         60,
         300,
         18000,
         "Low"
        ],
        [
         110,
         "Sofa",
         "Furniture",
         45000,
         5,
         225000,
         "High"
        ]
       ],
       "datasetInfos": [],
       "dbfsResultPath": null,
       "isJsonSchema": true,
       "metadata": {},
       "overflow": false,
       "plotOptions": {
        "customPlotOptions": {},
        "displayType": "table",
        "pivotAggregation": null,
        "pivotColumns": null,
        "xColumns": null,
        "yColumns": null
       },
       "removedWidgets": [],
       "schema": [
        {
         "metadata": "{}",
         "name": "product_id",
         "type": "\"integer\""
        },
        {
         "metadata": "{}",
         "name": "product_name",
         "type": "\"string\""
        },
        {
         "metadata": "{}",
         "name": "category",
         "type": "\"string\""
        },
        {
         "metadata": "{}",
         "name": "price",
         "type": "\"integer\""
        },
        {
         "metadata": "{}",
         "name": "quantity",
         "type": "\"integer\""
        },
        {
         "metadata": "{}",
         "name": "total_revenue",
         "type": "\"integer\""
        },
        {
         "metadata": "{}",
         "name": "price_band",
         "type": "\"string\""
        }
       ],
       "type": "table"
      }
     },
     "output_type": "display_data"
    }
   ],
   "source": [
    "# 8. Create a new column price_band with values:\n",
    "# 'High' if price > 10000\n",
    "# 'Medium' if 3000 < price <= 10000\n",
    "# 'Low' if price ≤ 3000\n",
    "df = df.withColumn(\n",
    "    \"price_band\",\n",
    "    when(col(\"price\") > 10000, \"High\")\n",
    "    .when((col(\"price\") > 3000) & (col(\"price\") <= 10000), \"Medium\")\n",
    "    .otherwise(\"Low\")\n",
    ")\n",
    "display(df)"
   ]
  },
  {
   "cell_type": "code",
   "execution_count": 0,
   "metadata": {
    "application/vnd.databricks.v1+cell": {
     "cellMetadata": {
      "byteLimit": 2048000,
      "rowLimit": 10000
     },
     "inputWidgets": {},
     "nuid": "b74492dc-7f0f-436d-be72-567149f12a90",
     "showTitle": false,
     "tableResultSettingsMap": {},
     "title": ""
    }
   },
   "outputs": [
    {
     "output_type": "display_data",
     "data": {
      "text/html": [
       "<style scoped>\n",
       "  .table-result-container {\n",
       "    max-height: 300px;\n",
       "    overflow: auto;\n",
       "  }\n",
       "  table, th, td {\n",
       "    border: 1px solid black;\n",
       "    border-collapse: collapse;\n",
       "  }\n",
       "  th, td {\n",
       "    padding: 5px;\n",
       "  }\n",
       "  th {\n",
       "    text-align: left;\n",
       "  }\n",
       "</style><div class='table-result-container'><table class='table-result'><thead style='background-color: white'><tr><th>category</th><th>total_quantity_sold</th></tr></thead><tbody><tr><td>Stationery</td><td>1000</td></tr><tr><td>Electronics</td><td>150</td></tr><tr><td>Furniture</td><td>95</td></tr></tbody></table></div>"
      ]
     },
     "metadata": {
      "application/vnd.databricks.v1+output": {
       "addedWidgets": {},
       "aggData": [],
       "aggError": "",
       "aggOverflow": false,
       "aggSchema": [],
       "aggSeriesLimitReached": false,
       "aggType": "",
       "arguments": {},
       "columnCustomDisplayInfos": {},
       "data": [
        [
         "Stationery",
         1000
        ],
        [
         "Electronics",
         150
        ],
        [
         "Furniture",
         95
        ]
       ],
       "datasetInfos": [],
       "dbfsResultPath": null,
       "isJsonSchema": true,
       "metadata": {},
       "overflow": false,
       "plotOptions": {
        "customPlotOptions": {},
        "displayType": "table",
        "pivotAggregation": null,
        "pivotColumns": null,
        "xColumns": null,
        "yColumns": null
       },
       "removedWidgets": [],
       "schema": [
        {
         "metadata": "{}",
         "name": "category",
         "type": "\"string\""
        },
        {
         "metadata": "{}",
         "name": "total_quantity_sold",
         "type": "\"long\""
        }
       ],
       "type": "table"
      }
     },
     "output_type": "display_data"
    }
   ],
   "source": [
    "# 9. Group by category and calculate total quantity sold. and display\n",
    "category_quantity = df.groupBy(\"category\").sum(\"quantity\").withColumnRenamed(\"sum(quantity)\", \"total_quantity_sold\")\n",
    "display(category_quantity)\n"
   ]
  },
  {
   "cell_type": "code",
   "execution_count": 0,
   "metadata": {
    "application/vnd.databricks.v1+cell": {
     "cellMetadata": {
      "byteLimit": 2048000,
      "rowLimit": 10000
     },
     "inputWidgets": {},
     "nuid": "67fb7d52-f5dd-4be0-807d-d8398981ef95",
     "showTitle": false,
     "tableResultSettingsMap": {
      "0": {
       "dataGridStateBlob": "{\"version\":1,\"tableState\":{\"columnPinning\":{\"left\":[\"#row_number#\"],\"right\":[]},\"columnSizing\":{\"avg_price\":90},\"columnVisibility\":{}},\"settings\":{\"columns\":{}},\"syncTimestamp\":1754547480806}",
       "filterBlob": null,
       "queryPlanFiltersBlob": null,
       "tableResultIndex": 0
      }
     },
     "title": ""
    }
   },
   "outputs": [
    {
     "output_type": "display_data",
     "data": {
      "text/html": [
       "<style scoped>\n",
       "  .table-result-container {\n",
       "    max-height: 300px;\n",
       "    overflow: auto;\n",
       "  }\n",
       "  table, th, td {\n",
       "    border: 1px solid black;\n",
       "    border-collapse: collapse;\n",
       "  }\n",
       "  th, td {\n",
       "    padding: 5px;\n",
       "  }\n",
       "  th {\n",
       "    text-align: left;\n",
       "  }\n",
       "</style><div class='table-result-container'><table class='table-result'><thead style='background-color: white'><tr><th>category</th><th>avg_price</th></tr></thead><tbody><tr><td>Stationery</td><td>160.0</td></tr><tr><td>Electronics</td><td>24625.0</td></tr><tr><td>Furniture</td><td>16900.0</td></tr></tbody></table></div>"
      ]
     },
     "metadata": {
      "application/vnd.databricks.v1+output": {
       "addedWidgets": {},
       "aggData": [],
       "aggError": "",
       "aggOverflow": false,
       "aggSchema": [],
       "aggSeriesLimitReached": false,
       "aggType": "",
       "arguments": {},
       "columnCustomDisplayInfos": {},
       "data": [
        [
         "Stationery",
         160.0
        ],
        [
         "Electronics",
         24625.0
        ],
        [
         "Furniture",
         16900.0
        ]
       ],
       "datasetInfos": [],
       "dbfsResultPath": null,
       "isJsonSchema": true,
       "metadata": {},
       "overflow": false,
       "plotOptions": {
        "customPlotOptions": {},
        "displayType": "table",
        "pivotAggregation": null,
        "pivotColumns": null,
        "xColumns": null,
        "yColumns": null
       },
       "removedWidgets": [],
       "schema": [
        {
         "metadata": "{}",
         "name": "category",
         "type": "\"string\""
        },
        {
         "metadata": "{}",
         "name": "avg_price",
         "type": "\"double\""
        }
       ],
       "type": "table"
      }
     },
     "output_type": "display_data"
    }
   ],
   "source": [
    "# 10. Calculate average price of products for each category.\n",
    "category_avg_price = df.groupBy(\"category\").avg(\"price\").withColumnRenamed(\"avg(price)\", \"avg_price\")\n",
    "display(category_avg_price)"
   ]
  },
  {
   "cell_type": "code",
   "execution_count": 0,
   "metadata": {
    "application/vnd.databricks.v1+cell": {
     "cellMetadata": {
      "byteLimit": 2048000,
      "rowLimit": 10000
     },
     "inputWidgets": {},
     "nuid": "7a094b90-d141-4440-9f48-9c191658e09a",
     "showTitle": false,
     "tableResultSettingsMap": {},
     "title": ""
    }
   },
   "outputs": [
    {
     "output_type": "display_data",
     "data": {
      "text/html": [
       "<style scoped>\n",
       "  .table-result-container {\n",
       "    max-height: 300px;\n",
       "    overflow: auto;\n",
       "  }\n",
       "  table, th, td {\n",
       "    border: 1px solid black;\n",
       "    border-collapse: collapse;\n",
       "  }\n",
       "  th, td {\n",
       "    padding: 5px;\n",
       "  }\n",
       "  th {\n",
       "    text-align: left;\n",
       "  }\n",
       "</style><div class='table-result-container'><table class='table-result'><thead style='background-color: white'><tr><th>price_band</th><th>count</th></tr></thead><tbody><tr><td>High</td><td>4</td></tr><tr><td>Low</td><td>5</td></tr><tr><td>Medium</td><td>1</td></tr></tbody></table></div>"
      ]
     },
     "metadata": {
      "application/vnd.databricks.v1+output": {
       "addedWidgets": {},
       "aggData": [],
       "aggError": "",
       "aggOverflow": false,
       "aggSchema": [],
       "aggSeriesLimitReached": false,
       "aggType": "",
       "arguments": {},
       "columnCustomDisplayInfos": {},
       "data": [
        [
         "High",
         4
        ],
        [
         "Low",
         5
        ],
        [
         "Medium",
         1
        ]
       ],
       "datasetInfos": [],
       "dbfsResultPath": null,
       "isJsonSchema": true,
       "metadata": {},
       "overflow": false,
       "plotOptions": {
        "customPlotOptions": {},
        "displayType": "table",
        "pivotAggregation": null,
        "pivotColumns": null,
        "xColumns": null,
        "yColumns": null
       },
       "removedWidgets": [],
       "schema": [
        {
         "metadata": "{}",
         "name": "price_band",
         "type": "\"string\""
        },
        {
         "metadata": "{}",
         "name": "count",
         "type": "\"long\""
        }
       ],
       "type": "table"
      }
     },
     "output_type": "display_data"
    }
   ],
   "source": [
    "# 11. Count how many products fall in each price_band .\n",
    "df.groupBy(\"price_band\").count().display()"
   ]
  },
  {
   "cell_type": "code",
   "execution_count": 0,
   "metadata": {
    "application/vnd.databricks.v1+cell": {
     "cellMetadata": {
      "byteLimit": 2048000,
      "rowLimit": 10000
     },
     "inputWidgets": {},
     "nuid": "52480115-bfc3-411e-9fa6-cf4d918cf5be",
     "showTitle": false,
     "tableResultSettingsMap": {},
     "title": ""
    }
   },
   "outputs": [],
   "source": [
    "# 12. Write the filtered Electronics products (price > 5000) into a Parquet file.\n",
    "df.filter((col(\"category\") == \"Electronics\") & (col(\"price\") > 5000)) \\\n",
    "  .write.mode(\"overwrite\").parquet(\"dbfs:/FileStore/tables/electronics_filtered.parquet\")"
   ]
  },
  {
   "cell_type": "code",
   "execution_count": 0,
   "metadata": {
    "application/vnd.databricks.v1+cell": {
     "cellMetadata": {
      "byteLimit": 2048000,
      "rowLimit": 10000
     },
     "inputWidgets": {},
     "nuid": "51782d05-af2e-4e7d-8743-a64b5b8c590f",
     "showTitle": false,
     "tableResultSettingsMap": {},
     "title": ""
    }
   },
   "outputs": [],
   "source": [
    "# 13. Write the Stationery products into a JSON file.\n",
    "df.filter(col(\"category\") == \"Stationery\") \\\n",
    "  .write.mode(\"overwrite\").json(\"dbfs:/FileStore/tables/stationery_products.json\")"
   ]
  },
  {
   "cell_type": "code",
   "execution_count": 0,
   "metadata": {
    "application/vnd.databricks.v1+cell": {
     "cellMetadata": {
      "byteLimit": 2048000,
      "rowLimit": 10000
     },
     "inputWidgets": {},
     "nuid": "535e975b-b0ac-4f02-acb8-f754eaa4d357",
     "showTitle": false,
     "tableResultSettingsMap": {},
     "title": ""
    }
   },
   "outputs": [
    {
     "output_type": "display_data",
     "data": {
      "text/html": [
       "<style scoped>\n",
       "  .table-result-container {\n",
       "    max-height: 300px;\n",
       "    overflow: auto;\n",
       "  }\n",
       "  table, th, td {\n",
       "    border: 1px solid black;\n",
       "    border-collapse: collapse;\n",
       "  }\n",
       "  th, td {\n",
       "    padding: 5px;\n",
       "  }\n",
       "  th {\n",
       "    text-align: left;\n",
       "  }\n",
       "</style><div class='table-result-container'><table class='table-result'><thead style='background-color: white'><tr><th>category</th><th>total_revenue_sum</th></tr></thead><tbody><tr><td>Electronics</td><td>1630000</td></tr><tr><td>Furniture</td><td>478000</td></tr><tr><td>Stationery</td><td>108000</td></tr></tbody></table></div>"
      ]
     },
     "metadata": {
      "application/vnd.databricks.v1+output": {
       "addedWidgets": {},
       "aggData": [],
       "aggError": "",
       "aggOverflow": false,
       "aggSchema": [],
       "aggSeriesLimitReached": false,
       "aggType": "",
       "arguments": {},
       "columnCustomDisplayInfos": {},
       "data": [
        [
         "Electronics",
         1630000
        ],
        [
         "Furniture",
         478000
        ],
        [
         "Stationery",
         108000
        ]
       ],
       "datasetInfos": [],
       "dbfsResultPath": null,
       "isJsonSchema": true,
       "metadata": {},
       "overflow": false,
       "plotOptions": {
        "customPlotOptions": {},
        "displayType": "table",
        "pivotAggregation": null,
        "pivotColumns": null,
        "xColumns": null,
        "yColumns": null
       },
       "removedWidgets": [],
       "schema": [
        {
         "metadata": "{}",
         "name": "category",
         "type": "\"string\""
        },
        {
         "metadata": "{}",
         "name": "total_revenue_sum",
         "type": "\"long\""
        }
       ],
       "type": "table"
      }
     },
     "output_type": "display_data"
    }
   ],
   "source": [
    "# 14. Load Parquet back and run a query to find which category has highest total revenue.\n",
    "df_loaded = spark.read.parquet(\"dbfs:/FileStore/tables/products_parquet\")\n",
    "df_loaded = df_loaded.withColumn(\"total_revenue\", col(\"price\") * col(\"quantity\"))\n",
    "\n",
    "df_loaded.groupBy(\"category\").sum(\"total_revenue\").withColumnRenamed(\"sum(total_revenue)\",\"total_revenue_sum\") \\\n",
    "  .orderBy(\"sum(total_revenue)\", ascending=False).display()"
   ]
  },
  {
   "cell_type": "code",
   "execution_count": 0,
   "metadata": {
    "application/vnd.databricks.v1+cell": {
     "cellMetadata": {
      "byteLimit": 2048000,
      "rowLimit": 10000
     },
     "inputWidgets": {},
     "nuid": "7fc374dc-b94e-4ee4-b2b4-81eac2755f4e",
     "showTitle": false,
     "tableResultSettingsMap": {},
     "title": ""
    }
   },
   "outputs": [
    {
     "output_type": "display_data",
     "data": {
      "text/html": [
       "<style scoped>\n",
       "  .table-result-container {\n",
       "    max-height: 300px;\n",
       "    overflow: auto;\n",
       "  }\n",
       "  table, th, td {\n",
       "    border: 1px solid black;\n",
       "    border-collapse: collapse;\n",
       "  }\n",
       "  th, td {\n",
       "    padding: 5px;\n",
       "  }\n",
       "  th {\n",
       "    text-align: left;\n",
       "  }\n",
       "</style><div class='table-result-container'><table class='table-result'><thead style='background-color: white'><tr><th>product_id</th><th>product_name</th><th>category</th><th>price</th><th>quantity</th><th>total_revenue</th><th>price_band</th></tr></thead><tbody><tr><td>104</td><td>Book</td><td>Stationery</td><td>400</td><td>200</td><td>80000</td><td>Low</td></tr><tr><td>107</td><td>Pen</td><td>Stationery</td><td>20</td><td>500</td><td>10000</td><td>Low</td></tr><tr><td>109</td><td>Notebook</td><td>Stationery</td><td>60</td><td>300</td><td>18000</td><td>Low</td></tr></tbody></table></div>"
      ]
     },
     "metadata": {
      "application/vnd.databricks.v1+output": {
       "addedWidgets": {},
       "aggData": [],
       "aggError": "",
       "aggOverflow": false,
       "aggSchema": [],
       "aggSeriesLimitReached": false,
       "aggType": "",
       "arguments": {},
       "columnCustomDisplayInfos": {},
       "data": [
        [
         104,
         "Book",
         "Stationery",
         400,
         200,
         80000,
         "Low"
        ],
        [
         107,
         "Pen",
         "Stationery",
         20,
         500,
         10000,
         "Low"
        ],
        [
         109,
         "Notebook",
         "Stationery",
         60,
         300,
         18000,
         "Low"
        ]
       ],
       "datasetInfos": [],
       "dbfsResultPath": null,
       "isJsonSchema": true,
       "metadata": {},
       "overflow": false,
       "plotOptions": {
        "customPlotOptions": {},
        "displayType": "table",
        "pivotAggregation": null,
        "pivotColumns": null,
        "xColumns": null,
        "yColumns": null
       },
       "removedWidgets": [],
       "schema": [
        {
         "metadata": "{}",
         "name": "product_id",
         "type": "\"integer\""
        },
        {
         "metadata": "{}",
         "name": "product_name",
         "type": "\"string\""
        },
        {
         "metadata": "{}",
         "name": "category",
         "type": "\"string\""
        },
        {
         "metadata": "{}",
         "name": "price",
         "type": "\"integer\""
        },
        {
         "metadata": "{}",
         "name": "quantity",
         "type": "\"integer\""
        },
        {
         "metadata": "{}",
         "name": "total_revenue",
         "type": "\"integer\""
        },
        {
         "metadata": "{}",
         "name": "price_band",
         "type": "\"string\""
        }
       ],
       "type": "table"
      }
     },
     "output_type": "display_data"
    }
   ],
   "source": [
    "# BONUS: \n",
    "# 15. Create a temporary view from the DataFrame and run Spark SQL to find all products with quantity > 100 and price < 1000.\n",
    "df.createOrReplaceTempView(\"products_view\")\n",
    "\n",
    "spark.sql(\"\"\"\n",
    "    SELECT * FROM products_view WHERE quantity > 100 AND price < 1000\n",
    "\"\"\").display()"
   ]
  }
 ],
 "metadata": {
  "application/vnd.databricks.v1+notebook": {
   "computePreferences": null,
   "dashboards": [],
   "environmentMetadata": {
    "base_environment": "",
    "environment_version": "2"
   },
   "inputWidgetPreferences": null,
   "language": "python",
   "notebookMetadata": {
    "mostRecentlyExecutedCommandWithImplicitDF": {
     "commandId": 6458497468154226,
     "dataframes": [
      "_sqldf"
     ]
    },
    "pythonIndentUnit": 4
   },
   "notebookName": "Parquet vs CSV vs JSON: EXERCISE",
   "widgets": {}
  },
  "language_info": {
   "name": "python"
  }
 },
 "nbformat": 4,
 "nbformat_minor": 0
}