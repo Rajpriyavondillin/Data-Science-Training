{
  "nbformat": 4,
  "nbformat_minor": 0,
  "metadata": {
    "colab": {
      "provenance": []
    },
    "kernelspec": {
      "name": "python3",
      "display_name": "Python 3"
    },
    "language_info": {
      "name": "python"
    }
  },
  "cells": [
    {
      "cell_type": "code",
      "execution_count": 6,
      "metadata": {
        "id": "po0Z5dU5bk2c"
      },
      "outputs": [],
      "source": [
        "from pyspark.sql import SparkSession\n",
        "\n",
        "spark = SparkSession.builder \\\n",
        "    .appName(\"RDDExamples\") \\\n",
        "    .master(\"local[*]\") \\\n",
        "    .getOrCreate()\n",
        "\n",
        "sc = spark.sparkContext"
      ]
    },
    {
      "cell_type": "code",
      "source": [
        "# From a Python list\n",
        "nums = sc.parallelize([1, 2, 3, 4,5])\n",
        "\n",
        "# From a text File (one line per record)\n",
        "# text_rdd = sc.textFile(\"/path/to/file.txt\")"
      ],
      "metadata": {
        "id": "zvH2Ih2ScIst"
      },
      "execution_count": 7,
      "outputs": []
    },
    {
      "cell_type": "markdown",
      "source": [
        "## ACTION METHODS\n",
        "\n",
        "Only when calling the functions the operation performs (since operations on RDD are lazy)"
      ],
      "metadata": {
        "id": "S7TifcH9dL-P"
      }
    },
    {
      "cell_type": "code",
      "source": [
        "nums.collect()"
      ],
      "metadata": {
        "colab": {
          "base_uri": "https://localhost:8080/"
        },
        "id": "bZPbOM4zcc7T",
        "outputId": "4acde0d6-4933-466c-a42d-7669327ff7ea"
      },
      "execution_count": 9,
      "outputs": [
        {
          "output_type": "execute_result",
          "data": {
            "text/plain": [
              "[1, 2, 3, 4, 5]"
            ]
          },
          "metadata": {},
          "execution_count": 9
        }
      ]
    },
    {
      "cell_type": "code",
      "source": [
        "nums.count()"
      ],
      "metadata": {
        "colab": {
          "base_uri": "https://localhost:8080/"
        },
        "id": "aTuznKeudHxX",
        "outputId": "aa29bb4f-cb32-4649-d3d5-ba9d3174e2cf"
      },
      "execution_count": 10,
      "outputs": [
        {
          "output_type": "execute_result",
          "data": {
            "text/plain": [
              "5"
            ]
          },
          "metadata": {},
          "execution_count": 10
        }
      ]
    },
    {
      "cell_type": "code",
      "source": [
        "nums.take(3)     # Taking top three"
      ],
      "metadata": {
        "colab": {
          "base_uri": "https://localhost:8080/"
        },
        "id": "7k8gcGSOdItk",
        "outputId": "dccdcb77-5b24-404c-b877-979c4e617fe6"
      },
      "execution_count": 12,
      "outputs": [
        {
          "output_type": "execute_result",
          "data": {
            "text/plain": [
              "[1, 2, 3]"
            ]
          },
          "metadata": {},
          "execution_count": 12
        }
      ]
    },
    {
      "cell_type": "code",
      "source": [
        "# Transformations are lazy\n",
        "squares = nums.map(lambda x: x*x)       #map -> transformation\n",
        "even_squares = squares.filter(lambda x: x%2 == 0)   #filter -> transformation\n",
        "\n",
        "# To get the output(ACTION)\n",
        "even_squares.collect()"
      ],
      "metadata": {
        "colab": {
          "base_uri": "https://localhost:8080/"
        },
        "id": "8hSs0N0uhk5i",
        "outputId": "8d429383-3e1f-4545-aa34-b33e97ecf1a5"
      },
      "execution_count": 13,
      "outputs": [
        {
          "output_type": "execute_result",
          "data": {
            "text/plain": [
              "[4, 16]"
            ]
          },
          "metadata": {},
          "execution_count": 13
        }
      ]
    },
    {
      "cell_type": "code",
      "source": [
        "# 1. Create an RDD from a list (Parallelization)\n",
        "lines = sc.parallelize([\n",
        "    \"spark makes big data simple\",\n",
        "    \"rdds are resilient distributed datasets\",\n",
        "    \"spark runs fast\"\n",
        "])\n",
        "\n",
        "# transformations -> builts a (DAG-Directed Acyclic Graph) which is a logical execution plan\n",
        "\n",
        "word_counts = (lines\n",
        "\n",
        "               #Splits each line into words.\n",
        "               # flatMap returns a flattened list of all words across all lines.\n",
        "               .flatMap(lambda line: line.split())    # DAG\n",
        "               # results -> [\"spark\", \"makes\", \"big\", \"data\", \"simple\", \"rdds\", \"are\", \"resilient\", \"distributed\", \"datasets\", \"spark\", \"runs\", \"fast\"]\n",
        "\n",
        "\n",
        "               # Converts each word to lowercase and pairs it with 1.\n",
        "               .map(lambda w: (w.lower(), 1))          # DAG\n",
        "               # results -> [(\"spark, 1\"), (\"makes\", 1), (\"big\",1),......]\n",
        "\n",
        "\n",
        "               # Adds up the values (counts how many times each word appears).\n",
        "               # reduce the data by the keys\n",
        "               .reduceByKey(lambda a, b: a + b))     # DAG\n",
        "               # results -> [(\"spark\",2), (\"makes\", 1), (\"big\",1),......]\n",
        "\n",
        "\n",
        "# (Actual order may vary — RDDs are not ordered.)\n",
        "word_counts.take(10)     # sample result\n",
        "#  ACTION -> Triggers the execution"
      ],
      "metadata": {
        "colab": {
          "base_uri": "https://localhost:8080/"
        },
        "id": "RbcEJaMfjTlr",
        "outputId": "28e6db5c-a61b-40b7-a58b-6f41339b9188"
      },
      "execution_count": 15,
      "outputs": [
        {
          "output_type": "execute_result",
          "data": {
            "text/plain": [
              "[('big', 1),\n",
              " ('are', 1),\n",
              " ('resilient', 1),\n",
              " ('distributed', 1),\n",
              " ('datasets', 1),\n",
              " ('runs', 1),\n",
              " ('fast', 1),\n",
              " ('spark', 2),\n",
              " ('makes', 1),\n",
              " ('data', 1)]"
            ]
          },
          "metadata": {},
          "execution_count": 15
        }
      ]
    },
    {
      "cell_type": "code",
      "source": [],
      "metadata": {
        "id": "qTIty_n-p-8K"
      },
      "execution_count": null,
      "outputs": []
    }
  ]
}