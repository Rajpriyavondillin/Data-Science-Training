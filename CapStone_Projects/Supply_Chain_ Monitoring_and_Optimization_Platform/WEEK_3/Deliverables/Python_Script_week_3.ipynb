{
  "nbformat": 4,
  "nbformat_minor": 0,
  "metadata": {
    "colab": {
      "provenance": []
    },
    "kernelspec": {
      "name": "python3",
      "display_name": "Python 3"
    },
    "language_info": {
      "name": "python"
    }
  },
  "cells": [
    {
      "cell_type": "markdown",
      "source": [
        "# Capstone Project: Supply Chain Monitoring and Optimization Platform"
      ],
      "metadata": {
        "id": "UQiIWqg4LSV8"
      }
    },
    {
      "cell_type": "markdown",
      "source": [
        "# Week 3 – Intro to PySpark: Processing Big Data\n",
        "\n",
        "Tools: PySpark"
      ],
      "metadata": {
        "id": "PY435DA3LXLJ"
      }
    },
    {
      "cell_type": "markdown",
      "source": [
        "Capstone Tasks:\n",
        "\n",
        "    1. Load order data from CSV using PySpark.\n",
        "    2. Filter delayed shipments.\n",
        "    3. Group by supplier and count delayed orders.\n",
        "    4. Save processed data to CSV or Parquet."
      ],
      "metadata": {
        "id": "R-Q-hOXzLZy4"
      }
    },
    {
      "cell_type": "code",
      "source": [
        "# Import required PySpark modules\n",
        "from pyspark.sql import SparkSession\n",
        "from pyspark.sql import functions as F\n",
        "from pyspark.sql.functions import col, datediff, current_date"
      ],
      "metadata": {
        "id": "2TTDHBkyCKYp"
      },
      "execution_count": 25,
      "outputs": []
    },
    {
      "cell_type": "code",
      "source": [
        "# Create Spark session\n",
        "spark = SparkSession.builder.appName(\"week-3\").getOrCreate()\n",
        "spark"
      ],
      "metadata": {
        "colab": {
          "base_uri": "https://localhost:8080/",
          "height": 222
        },
        "id": "uPgPD_trCNNn",
        "outputId": "dded1318-72a6-480d-aede-61f165099512"
      },
      "execution_count": 26,
      "outputs": [
        {
          "output_type": "execute_result",
          "data": {
            "text/plain": [
              "<pyspark.sql.session.SparkSession at 0x7e8db4381450>"
            ],
            "text/html": [
              "\n",
              "            <div>\n",
              "                <p><b>SparkSession - in-memory</b></p>\n",
              "                \n",
              "        <div>\n",
              "            <p><b>SparkContext</b></p>\n",
              "\n",
              "            <p><a href=\"http://74d64caf33d6:4040\">Spark UI</a></p>\n",
              "\n",
              "            <dl>\n",
              "              <dt>Version</dt>\n",
              "                <dd><code>v3.5.1</code></dd>\n",
              "              <dt>Master</dt>\n",
              "                <dd><code>local[*]</code></dd>\n",
              "              <dt>AppName</dt>\n",
              "                <dd><code>week-3</code></dd>\n",
              "            </dl>\n",
              "        </div>\n",
              "        \n",
              "            </div>\n",
              "        "
            ]
          },
          "metadata": {},
          "execution_count": 26
        }
      ]
    },
    {
      "cell_type": "code",
      "execution_count": 27,
      "metadata": {
        "colab": {
          "base_uri": "https://localhost:8080/",
          "height": 145
        },
        "id": "H1A1mzP2CDNk",
        "outputId": "40581dbb-9666-4731-d003-d4efe2d44e74"
      },
      "outputs": [
        {
          "output_type": "display_data",
          "data": {
            "text/plain": [
              "<IPython.core.display.HTML object>"
            ],
            "text/html": [
              "\n",
              "     <input type=\"file\" id=\"files-f3f1c023-d2ac-4269-828d-ca832a878557\" name=\"files[]\" multiple disabled\n",
              "        style=\"border:none\" />\n",
              "     <output id=\"result-f3f1c023-d2ac-4269-828d-ca832a878557\">\n",
              "      Upload widget is only available when the cell has been executed in the\n",
              "      current browser session. Please rerun this cell to enable.\n",
              "      </output>\n",
              "      <script>// Copyright 2017 Google LLC\n",
              "//\n",
              "// Licensed under the Apache License, Version 2.0 (the \"License\");\n",
              "// you may not use this file except in compliance with the License.\n",
              "// You may obtain a copy of the License at\n",
              "//\n",
              "//      http://www.apache.org/licenses/LICENSE-2.0\n",
              "//\n",
              "// Unless required by applicable law or agreed to in writing, software\n",
              "// distributed under the License is distributed on an \"AS IS\" BASIS,\n",
              "// WITHOUT WARRANTIES OR CONDITIONS OF ANY KIND, either express or implied.\n",
              "// See the License for the specific language governing permissions and\n",
              "// limitations under the License.\n",
              "\n",
              "/**\n",
              " * @fileoverview Helpers for google.colab Python module.\n",
              " */\n",
              "(function(scope) {\n",
              "function span(text, styleAttributes = {}) {\n",
              "  const element = document.createElement('span');\n",
              "  element.textContent = text;\n",
              "  for (const key of Object.keys(styleAttributes)) {\n",
              "    element.style[key] = styleAttributes[key];\n",
              "  }\n",
              "  return element;\n",
              "}\n",
              "\n",
              "// Max number of bytes which will be uploaded at a time.\n",
              "const MAX_PAYLOAD_SIZE = 100 * 1024;\n",
              "\n",
              "function _uploadFiles(inputId, outputId) {\n",
              "  const steps = uploadFilesStep(inputId, outputId);\n",
              "  const outputElement = document.getElementById(outputId);\n",
              "  // Cache steps on the outputElement to make it available for the next call\n",
              "  // to uploadFilesContinue from Python.\n",
              "  outputElement.steps = steps;\n",
              "\n",
              "  return _uploadFilesContinue(outputId);\n",
              "}\n",
              "\n",
              "// This is roughly an async generator (not supported in the browser yet),\n",
              "// where there are multiple asynchronous steps and the Python side is going\n",
              "// to poll for completion of each step.\n",
              "// This uses a Promise to block the python side on completion of each step,\n",
              "// then passes the result of the previous step as the input to the next step.\n",
              "function _uploadFilesContinue(outputId) {\n",
              "  const outputElement = document.getElementById(outputId);\n",
              "  const steps = outputElement.steps;\n",
              "\n",
              "  const next = steps.next(outputElement.lastPromiseValue);\n",
              "  return Promise.resolve(next.value.promise).then((value) => {\n",
              "    // Cache the last promise value to make it available to the next\n",
              "    // step of the generator.\n",
              "    outputElement.lastPromiseValue = value;\n",
              "    return next.value.response;\n",
              "  });\n",
              "}\n",
              "\n",
              "/**\n",
              " * Generator function which is called between each async step of the upload\n",
              " * process.\n",
              " * @param {string} inputId Element ID of the input file picker element.\n",
              " * @param {string} outputId Element ID of the output display.\n",
              " * @return {!Iterable<!Object>} Iterable of next steps.\n",
              " */\n",
              "function* uploadFilesStep(inputId, outputId) {\n",
              "  const inputElement = document.getElementById(inputId);\n",
              "  inputElement.disabled = false;\n",
              "\n",
              "  const outputElement = document.getElementById(outputId);\n",
              "  outputElement.innerHTML = '';\n",
              "\n",
              "  const pickedPromise = new Promise((resolve) => {\n",
              "    inputElement.addEventListener('change', (e) => {\n",
              "      resolve(e.target.files);\n",
              "    });\n",
              "  });\n",
              "\n",
              "  const cancel = document.createElement('button');\n",
              "  inputElement.parentElement.appendChild(cancel);\n",
              "  cancel.textContent = 'Cancel upload';\n",
              "  const cancelPromise = new Promise((resolve) => {\n",
              "    cancel.onclick = () => {\n",
              "      resolve(null);\n",
              "    };\n",
              "  });\n",
              "\n",
              "  // Wait for the user to pick the files.\n",
              "  const files = yield {\n",
              "    promise: Promise.race([pickedPromise, cancelPromise]),\n",
              "    response: {\n",
              "      action: 'starting',\n",
              "    }\n",
              "  };\n",
              "\n",
              "  cancel.remove();\n",
              "\n",
              "  // Disable the input element since further picks are not allowed.\n",
              "  inputElement.disabled = true;\n",
              "\n",
              "  if (!files) {\n",
              "    return {\n",
              "      response: {\n",
              "        action: 'complete',\n",
              "      }\n",
              "    };\n",
              "  }\n",
              "\n",
              "  for (const file of files) {\n",
              "    const li = document.createElement('li');\n",
              "    li.append(span(file.name, {fontWeight: 'bold'}));\n",
              "    li.append(span(\n",
              "        `(${file.type || 'n/a'}) - ${file.size} bytes, ` +\n",
              "        `last modified: ${\n",
              "            file.lastModifiedDate ? file.lastModifiedDate.toLocaleDateString() :\n",
              "                                    'n/a'} - `));\n",
              "    const percent = span('0% done');\n",
              "    li.appendChild(percent);\n",
              "\n",
              "    outputElement.appendChild(li);\n",
              "\n",
              "    const fileDataPromise = new Promise((resolve) => {\n",
              "      const reader = new FileReader();\n",
              "      reader.onload = (e) => {\n",
              "        resolve(e.target.result);\n",
              "      };\n",
              "      reader.readAsArrayBuffer(file);\n",
              "    });\n",
              "    // Wait for the data to be ready.\n",
              "    let fileData = yield {\n",
              "      promise: fileDataPromise,\n",
              "      response: {\n",
              "        action: 'continue',\n",
              "      }\n",
              "    };\n",
              "\n",
              "    // Use a chunked sending to avoid message size limits. See b/62115660.\n",
              "    let position = 0;\n",
              "    do {\n",
              "      const length = Math.min(fileData.byteLength - position, MAX_PAYLOAD_SIZE);\n",
              "      const chunk = new Uint8Array(fileData, position, length);\n",
              "      position += length;\n",
              "\n",
              "      const base64 = btoa(String.fromCharCode.apply(null, chunk));\n",
              "      yield {\n",
              "        response: {\n",
              "          action: 'append',\n",
              "          file: file.name,\n",
              "          data: base64,\n",
              "        },\n",
              "      };\n",
              "\n",
              "      let percentDone = fileData.byteLength === 0 ?\n",
              "          100 :\n",
              "          Math.round((position / fileData.byteLength) * 100);\n",
              "      percent.textContent = `${percentDone}% done`;\n",
              "\n",
              "    } while (position < fileData.byteLength);\n",
              "  }\n",
              "\n",
              "  // All done.\n",
              "  yield {\n",
              "    response: {\n",
              "      action: 'complete',\n",
              "    }\n",
              "  };\n",
              "}\n",
              "\n",
              "scope.google = scope.google || {};\n",
              "scope.google.colab = scope.google.colab || {};\n",
              "scope.google.colab._files = {\n",
              "  _uploadFiles,\n",
              "  _uploadFilesContinue,\n",
              "};\n",
              "})(self);\n",
              "</script> "
            ]
          },
          "metadata": {}
        },
        {
          "output_type": "stream",
          "name": "stdout",
          "text": [
            "Saving inventory.csv to inventory (1).csv\n",
            "Saving orders.csv to orders (1).csv\n",
            "Saving suppliers.csv to suppliers (1).csv\n"
          ]
        }
      ],
      "source": [
        "# 1. Load order data from CSV using PySpark.\n",
        "\n",
        "# Upload CSV files from local to Colab\n",
        "from google.colab import files\n",
        "uploaded = files.upload()"
      ]
    },
    {
      "cell_type": "code",
      "source": [
        "# Load CSV files into DataFrames\n",
        "orders_df = spark.read.csv(\"orders.csv\", header=True, inferSchema=True)\n",
        "suppliers_df = spark.read.csv(\"suppliers.csv\", header=True, inferSchema=True)\n",
        "inventory_df = spark.read.csv(\"inventory.csv\", header=True, inferSchema=True)"
      ],
      "metadata": {
        "id": "T_JPzMzhD8oe"
      },
      "execution_count": 28,
      "outputs": []
    },
    {
      "cell_type": "code",
      "source": [
        "# Display Orders Schema\n",
        "print(\"Orders Schema:\")\n",
        "orders_df.printSchema()"
      ],
      "metadata": {
        "colab": {
          "base_uri": "https://localhost:8080/"
        },
        "id": "1t4DbwzwFrX1",
        "outputId": "2eabda6b-1c64-4cc8-88b5-464749c2e0f2"
      },
      "execution_count": 29,
      "outputs": [
        {
          "output_type": "stream",
          "name": "stdout",
          "text": [
            "Orders Schema:\n",
            "root\n",
            " |-- order_id: integer (nullable = true)\n",
            " |-- product_id: integer (nullable = true)\n",
            " |-- supplier_id: integer (nullable = true)\n",
            " |-- quantity: integer (nullable = true)\n",
            " |-- order_Date: date (nullable = true)\n",
            " |-- delivery_date: date (nullable = true)\n",
            " |-- status: string (nullable = true)\n",
            "\n"
          ]
        }
      ]
    },
    {
      "cell_type": "code",
      "source": [
        "# Display Suppliers Schema\n",
        "print(\"Suppliers Schema:\")\n",
        "suppliers_df.printSchema()"
      ],
      "metadata": {
        "colab": {
          "base_uri": "https://localhost:8080/"
        },
        "id": "jlyyWAlgFsuh",
        "outputId": "6d3c879c-f364-40ce-81a6-66e8d1bf199e"
      },
      "execution_count": 30,
      "outputs": [
        {
          "output_type": "stream",
          "name": "stdout",
          "text": [
            "Suppliers Schema:\n",
            "root\n",
            " |-- supplier_id: integer (nullable = true)\n",
            " |-- name: string (nullable = true)\n",
            " |-- contact_info: string (nullable = true)\n",
            " |-- location: string (nullable = true)\n",
            "\n"
          ]
        }
      ]
    },
    {
      "cell_type": "code",
      "source": [
        "# Display Inventory Schema\n",
        "print(\"Inventory Schema:\")\n",
        "inventory_df.printSchema()"
      ],
      "metadata": {
        "colab": {
          "base_uri": "https://localhost:8080/"
        },
        "id": "ZIvhxTV5FuFZ",
        "outputId": "cc628c01-2661-47e6-b64a-2172b18f3a70"
      },
      "execution_count": 31,
      "outputs": [
        {
          "output_type": "stream",
          "name": "stdout",
          "text": [
            "Inventory Schema:\n",
            "root\n",
            " |-- product_id: integer (nullable = true)\n",
            " |-- product_name: string (nullable = true)\n",
            " |-- quantity_in_stock: integer (nullable = true)\n",
            " |-- reorder_level: integer (nullable = true)\n",
            "\n"
          ]
        }
      ]
    },
    {
      "cell_type": "code",
      "source": [
        "# Convert delivery_date to DateType\n",
        "df = orders_df.withColumn(\"delivery_date\", col(\"delivery_date\").cast(\"date\"))\n",
        "\n",
        "# Calculate delay days = current_date - delivery_date\n",
        "df = df.withColumn(\"delay_days\", datediff(current_date(), col(\"delivery_date\")))"
      ],
      "metadata": {
        "id": "KJe521jSC0BX"
      },
      "execution_count": 32,
      "outputs": []
    },
    {
      "cell_type": "code",
      "source": [
        "# 2. Filter delayed shipments (delay_days > 0 means delayed)\n",
        "delayed_df = df.filter(col(\"delay_days\") > 0)\n",
        "delayed_df.show()"
      ],
      "metadata": {
        "colab": {
          "base_uri": "https://localhost:8080/"
        },
        "id": "TD3VNsTnDN20",
        "outputId": "01d01b5f-a8ba-4e29-ffb8-daa663ba7933"
      },
      "execution_count": 33,
      "outputs": [
        {
          "output_type": "stream",
          "name": "stdout",
          "text": [
            "+--------+----------+-----------+--------+----------+-------------+---------+----------+\n",
            "|order_id|product_id|supplier_id|quantity|order_Date|delivery_date|   status|delay_days|\n",
            "+--------+----------+-----------+--------+----------+-------------+---------+----------+\n",
            "|       1|         3|          1|      40|2025-07-03|   2025-07-07|  Shipped|        25|\n",
            "|       2|         7|          4|      15|2025-07-06|   2025-07-11|Delivered|        21|\n",
            "|       3|         2|          2|      25|2025-07-01|   2025-07-06|  Pending|        26|\n",
            "|       4|        10|          5|      10|2025-07-10|   2025-07-14|Cancelled|        18|\n",
            "|       5|         1|          3|      50|2025-07-02|   2025-07-07|Delivered|        25|\n",
            "|       6|         8|          8|      20|2025-07-07|   2025-07-12|  Pending|        20|\n",
            "|       7|         5|          6|      35|2025-07-05|   2025-07-09|Delivered|        23|\n",
            "|       8|         9|         10|      60|2025-07-08|   2025-07-13|  Shipped|        19|\n",
            "|       9|         6|          7|     100|2025-07-04|   2025-07-08|Delivered|        24|\n",
            "|      10|         4|          9|      12|2025-07-09|   2025-07-15|Delivered|        17|\n",
            "+--------+----------+-----------+--------+----------+-------------+---------+----------+\n",
            "\n"
          ]
        }
      ]
    },
    {
      "cell_type": "code",
      "source": [
        "# 3. Group by supplier and count delayed orders\n",
        "grouped_df = delayed_df.groupBy(\"supplier_id\").count().withColumnRenamed(\"count\", \"delayed_orders_count\")\n",
        "\n",
        "# Show grouped result\n",
        "grouped_df.show()"
      ],
      "metadata": {
        "colab": {
          "base_uri": "https://localhost:8080/"
        },
        "id": "FNqaCAzEDZnN",
        "outputId": "dff08fc3-ca0f-43fa-bf81-f5f4bfae42d5"
      },
      "execution_count": 34,
      "outputs": [
        {
          "output_type": "stream",
          "name": "stdout",
          "text": [
            "+-----------+--------------------+\n",
            "|supplier_id|delayed_orders_count|\n",
            "+-----------+--------------------+\n",
            "|          1|                   1|\n",
            "|          6|                   1|\n",
            "|          3|                   1|\n",
            "|          5|                   1|\n",
            "|          9|                   1|\n",
            "|          4|                   1|\n",
            "|          8|                   1|\n",
            "|          7|                   1|\n",
            "|         10|                   1|\n",
            "|          2|                   1|\n",
            "+-----------+--------------------+\n",
            "\n"
          ]
        }
      ]
    },
    {
      "cell_type": "markdown",
      "source": [
        "Deliverables:\n",
        "\n",
        "    1. PySpark script to load, process, and save supply chain data\n",
        "\n",
        "    2. Output file showing grouped results"
      ],
      "metadata": {
        "id": "FFoJYZh5L19R"
      }
    },
    {
      "cell_type": "code",
      "source": [
        "# 4. Save grouped result to CSV in output directory\n",
        "grouped_df.write.mode(\"overwrite\").csv(\"output/delayed_orders_by_supplier_csv\", header=True)"
      ],
      "metadata": {
        "id": "EK8pcg5PDsEU"
      },
      "execution_count": 35,
      "outputs": []
    },
    {
      "cell_type": "code",
      "source": [
        "# Merge Spark output parts into one CSV\n",
        "!cat output/delayed_orders_by_supplier_csv/part-*.csv > delayed_orders_by_supplier.csv\n",
        "\n",
        "# 2. Download final merged output file to local system\n",
        "from google.colab import files\n",
        "files.download(\"delayed_orders_by_supplier.csv\")"
      ],
      "metadata": {
        "colab": {
          "base_uri": "https://localhost:8080/",
          "height": 17
        },
        "id": "OLBLDYQgF_74",
        "outputId": "5dc06dea-f7d8-48ea-99d3-027e4334f358"
      },
      "execution_count": 36,
      "outputs": [
        {
          "output_type": "display_data",
          "data": {
            "text/plain": [
              "<IPython.core.display.Javascript object>"
            ],
            "application/javascript": [
              "\n",
              "    async function download(id, filename, size) {\n",
              "      if (!google.colab.kernel.accessAllowed) {\n",
              "        return;\n",
              "      }\n",
              "      const div = document.createElement('div');\n",
              "      const label = document.createElement('label');\n",
              "      label.textContent = `Downloading \"${filename}\": `;\n",
              "      div.appendChild(label);\n",
              "      const progress = document.createElement('progress');\n",
              "      progress.max = size;\n",
              "      div.appendChild(progress);\n",
              "      document.body.appendChild(div);\n",
              "\n",
              "      const buffers = [];\n",
              "      let downloaded = 0;\n",
              "\n",
              "      const channel = await google.colab.kernel.comms.open(id);\n",
              "      // Send a message to notify the kernel that we're ready.\n",
              "      channel.send({})\n",
              "\n",
              "      for await (const message of channel.messages) {\n",
              "        // Send a message to notify the kernel that we're ready.\n",
              "        channel.send({})\n",
              "        if (message.buffers) {\n",
              "          for (const buffer of message.buffers) {\n",
              "            buffers.push(buffer);\n",
              "            downloaded += buffer.byteLength;\n",
              "            progress.value = downloaded;\n",
              "          }\n",
              "        }\n",
              "      }\n",
              "      const blob = new Blob(buffers, {type: 'application/binary'});\n",
              "      const a = document.createElement('a');\n",
              "      a.href = window.URL.createObjectURL(blob);\n",
              "      a.download = filename;\n",
              "      div.appendChild(a);\n",
              "      a.click();\n",
              "      div.remove();\n",
              "    }\n",
              "  "
            ]
          },
          "metadata": {}
        },
        {
          "output_type": "display_data",
          "data": {
            "text/plain": [
              "<IPython.core.display.Javascript object>"
            ],
            "application/javascript": [
              "download(\"download_69724a21-fd05-49a3-92ee-2f96653fa89c\", \"delayed_orders_by_supplier.csv\", 74)"
            ]
          },
          "metadata": {}
        }
      ]
    }
  ]
}