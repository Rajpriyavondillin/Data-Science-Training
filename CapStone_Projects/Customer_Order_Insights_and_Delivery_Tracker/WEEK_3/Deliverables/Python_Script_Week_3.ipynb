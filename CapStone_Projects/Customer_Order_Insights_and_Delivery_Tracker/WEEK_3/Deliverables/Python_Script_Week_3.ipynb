{
  "nbformat": 4,
  "nbformat_minor": 0,
  "metadata": {
    "colab": {
      "provenance": []
    },
    "kernelspec": {
      "name": "python3",
      "display_name": "Python 3"
    },
    "language_info": {
      "name": "python"
    }
  },
  "cells": [
    {
      "cell_type": "markdown",
      "source": [
        "# Capstone Project: Customer Order Insights & Delivery Tracker"
      ],
      "metadata": {
        "id": "D-nWVDJQStyL"
      }
    },
    {
      "cell_type": "markdown",
      "source": [
        "# Week 3 – Order Analysis with PySpark\n",
        "\n",
        "Tools: PySpark"
      ],
      "metadata": {
        "id": "_75kv2-nSw4W"
      }
    },
    {
      "cell_type": "code",
      "execution_count": 26,
      "metadata": {
        "id": "mwrmyi0CNOW6"
      },
      "outputs": [],
      "source": [
        "# Import required PySpark modules\n",
        "from pyspark.sql import SparkSession\n",
        "from pyspark.sql.functions import col, to_date, split, count, when\n",
        "from pyspark.sql.types import TimestampType"
      ]
    },
    {
      "cell_type": "code",
      "source": [
        "# Create Spark session\n",
        "spark = SparkSession.builder.appName(\"week-3-Order-Delay-Analysis\").getOrCreate()\n",
        "spark"
      ],
      "metadata": {
        "colab": {
          "base_uri": "https://localhost:8080/",
          "height": 222
        },
        "id": "P9Jk8bBvQG6P",
        "outputId": "69ac9f74-1c79-4069-84f5-4a749cb2559a"
      },
      "execution_count": 27,
      "outputs": [
        {
          "output_type": "execute_result",
          "data": {
            "text/plain": [
              "<pyspark.sql.session.SparkSession at 0x7f6334540b10>"
            ],
            "text/html": [
              "\n",
              "            <div>\n",
              "                <p><b>SparkSession - in-memory</b></p>\n",
              "                \n",
              "        <div>\n",
              "            <p><b>SparkContext</b></p>\n",
              "\n",
              "            <p><a href=\"http://1c7eb7e6103b:4040\">Spark UI</a></p>\n",
              "\n",
              "            <dl>\n",
              "              <dt>Version</dt>\n",
              "                <dd><code>v3.5.1</code></dd>\n",
              "              <dt>Master</dt>\n",
              "                <dd><code>local[*]</code></dd>\n",
              "              <dt>AppName</dt>\n",
              "                <dd><code>week-3-Order-Delay-Analysis</code></dd>\n",
              "            </dl>\n",
              "        </div>\n",
              "        \n",
              "            </div>\n",
              "        "
            ]
          },
          "metadata": {},
          "execution_count": 27
        }
      ]
    },
    {
      "cell_type": "markdown",
      "source": [
        "Capstone Tasks:\n",
        "\n",
        "        1.  Load order and delivery data into PySpark\n",
        "        2. Join orders and customer tables\n",
        "        3.  Group by region to count delays\n",
        "        4.  Save results to a file"
      ],
      "metadata": {
        "id": "pbH4NCduTBRK"
      }
    },
    {
      "cell_type": "code",
      "source": [
        "# 1. Load order data from CSV using PySpark.\n",
        "\n",
        "# Upload CSV files from local to Colab\n",
        "from google.colab import files\n",
        "uploaded = files.upload()"
      ],
      "metadata": {
        "colab": {
          "base_uri": "https://localhost:8080/",
          "height": 145
        },
        "id": "W10dZKBUQLEy",
        "outputId": "a2fc2061-3b1a-470c-fe84-6da772fd5c3d"
      },
      "execution_count": 28,
      "outputs": [
        {
          "output_type": "display_data",
          "data": {
            "text/plain": [
              "<IPython.core.display.HTML object>"
            ],
            "text/html": [
              "\n",
              "     <input type=\"file\" id=\"files-a0805b21-b12b-4eeb-909a-5576fdccc1b7\" name=\"files[]\" multiple disabled\n",
              "        style=\"border:none\" />\n",
              "     <output id=\"result-a0805b21-b12b-4eeb-909a-5576fdccc1b7\">\n",
              "      Upload widget is only available when the cell has been executed in the\n",
              "      current browser session. Please rerun this cell to enable.\n",
              "      </output>\n",
              "      <script>// Copyright 2017 Google LLC\n",
              "//\n",
              "// Licensed under the Apache License, Version 2.0 (the \"License\");\n",
              "// you may not use this file except in compliance with the License.\n",
              "// You may obtain a copy of the License at\n",
              "//\n",
              "//      http://www.apache.org/licenses/LICENSE-2.0\n",
              "//\n",
              "// Unless required by applicable law or agreed to in writing, software\n",
              "// distributed under the License is distributed on an \"AS IS\" BASIS,\n",
              "// WITHOUT WARRANTIES OR CONDITIONS OF ANY KIND, either express or implied.\n",
              "// See the License for the specific language governing permissions and\n",
              "// limitations under the License.\n",
              "\n",
              "/**\n",
              " * @fileoverview Helpers for google.colab Python module.\n",
              " */\n",
              "(function(scope) {\n",
              "function span(text, styleAttributes = {}) {\n",
              "  const element = document.createElement('span');\n",
              "  element.textContent = text;\n",
              "  for (const key of Object.keys(styleAttributes)) {\n",
              "    element.style[key] = styleAttributes[key];\n",
              "  }\n",
              "  return element;\n",
              "}\n",
              "\n",
              "// Max number of bytes which will be uploaded at a time.\n",
              "const MAX_PAYLOAD_SIZE = 100 * 1024;\n",
              "\n",
              "function _uploadFiles(inputId, outputId) {\n",
              "  const steps = uploadFilesStep(inputId, outputId);\n",
              "  const outputElement = document.getElementById(outputId);\n",
              "  // Cache steps on the outputElement to make it available for the next call\n",
              "  // to uploadFilesContinue from Python.\n",
              "  outputElement.steps = steps;\n",
              "\n",
              "  return _uploadFilesContinue(outputId);\n",
              "}\n",
              "\n",
              "// This is roughly an async generator (not supported in the browser yet),\n",
              "// where there are multiple asynchronous steps and the Python side is going\n",
              "// to poll for completion of each step.\n",
              "// This uses a Promise to block the python side on completion of each step,\n",
              "// then passes the result of the previous step as the input to the next step.\n",
              "function _uploadFilesContinue(outputId) {\n",
              "  const outputElement = document.getElementById(outputId);\n",
              "  const steps = outputElement.steps;\n",
              "\n",
              "  const next = steps.next(outputElement.lastPromiseValue);\n",
              "  return Promise.resolve(next.value.promise).then((value) => {\n",
              "    // Cache the last promise value to make it available to the next\n",
              "    // step of the generator.\n",
              "    outputElement.lastPromiseValue = value;\n",
              "    return next.value.response;\n",
              "  });\n",
              "}\n",
              "\n",
              "/**\n",
              " * Generator function which is called between each async step of the upload\n",
              " * process.\n",
              " * @param {string} inputId Element ID of the input file picker element.\n",
              " * @param {string} outputId Element ID of the output display.\n",
              " * @return {!Iterable<!Object>} Iterable of next steps.\n",
              " */\n",
              "function* uploadFilesStep(inputId, outputId) {\n",
              "  const inputElement = document.getElementById(inputId);\n",
              "  inputElement.disabled = false;\n",
              "\n",
              "  const outputElement = document.getElementById(outputId);\n",
              "  outputElement.innerHTML = '';\n",
              "\n",
              "  const pickedPromise = new Promise((resolve) => {\n",
              "    inputElement.addEventListener('change', (e) => {\n",
              "      resolve(e.target.files);\n",
              "    });\n",
              "  });\n",
              "\n",
              "  const cancel = document.createElement('button');\n",
              "  inputElement.parentElement.appendChild(cancel);\n",
              "  cancel.textContent = 'Cancel upload';\n",
              "  const cancelPromise = new Promise((resolve) => {\n",
              "    cancel.onclick = () => {\n",
              "      resolve(null);\n",
              "    };\n",
              "  });\n",
              "\n",
              "  // Wait for the user to pick the files.\n",
              "  const files = yield {\n",
              "    promise: Promise.race([pickedPromise, cancelPromise]),\n",
              "    response: {\n",
              "      action: 'starting',\n",
              "    }\n",
              "  };\n",
              "\n",
              "  cancel.remove();\n",
              "\n",
              "  // Disable the input element since further picks are not allowed.\n",
              "  inputElement.disabled = true;\n",
              "\n",
              "  if (!files) {\n",
              "    return {\n",
              "      response: {\n",
              "        action: 'complete',\n",
              "      }\n",
              "    };\n",
              "  }\n",
              "\n",
              "  for (const file of files) {\n",
              "    const li = document.createElement('li');\n",
              "    li.append(span(file.name, {fontWeight: 'bold'}));\n",
              "    li.append(span(\n",
              "        `(${file.type || 'n/a'}) - ${file.size} bytes, ` +\n",
              "        `last modified: ${\n",
              "            file.lastModifiedDate ? file.lastModifiedDate.toLocaleDateString() :\n",
              "                                    'n/a'} - `));\n",
              "    const percent = span('0% done');\n",
              "    li.appendChild(percent);\n",
              "\n",
              "    outputElement.appendChild(li);\n",
              "\n",
              "    const fileDataPromise = new Promise((resolve) => {\n",
              "      const reader = new FileReader();\n",
              "      reader.onload = (e) => {\n",
              "        resolve(e.target.result);\n",
              "      };\n",
              "      reader.readAsArrayBuffer(file);\n",
              "    });\n",
              "    // Wait for the data to be ready.\n",
              "    let fileData = yield {\n",
              "      promise: fileDataPromise,\n",
              "      response: {\n",
              "        action: 'continue',\n",
              "      }\n",
              "    };\n",
              "\n",
              "    // Use a chunked sending to avoid message size limits. See b/62115660.\n",
              "    let position = 0;\n",
              "    do {\n",
              "      const length = Math.min(fileData.byteLength - position, MAX_PAYLOAD_SIZE);\n",
              "      const chunk = new Uint8Array(fileData, position, length);\n",
              "      position += length;\n",
              "\n",
              "      const base64 = btoa(String.fromCharCode.apply(null, chunk));\n",
              "      yield {\n",
              "        response: {\n",
              "          action: 'append',\n",
              "          file: file.name,\n",
              "          data: base64,\n",
              "        },\n",
              "      };\n",
              "\n",
              "      let percentDone = fileData.byteLength === 0 ?\n",
              "          100 :\n",
              "          Math.round((position / fileData.byteLength) * 100);\n",
              "      percent.textContent = `${percentDone}% done`;\n",
              "\n",
              "    } while (position < fileData.byteLength);\n",
              "  }\n",
              "\n",
              "  // All done.\n",
              "  yield {\n",
              "    response: {\n",
              "      action: 'complete',\n",
              "    }\n",
              "  };\n",
              "}\n",
              "\n",
              "scope.google = scope.google || {};\n",
              "scope.google.colab = scope.google.colab || {};\n",
              "scope.google.colab._files = {\n",
              "  _uploadFiles,\n",
              "  _uploadFilesContinue,\n",
              "};\n",
              "})(self);\n",
              "</script> "
            ]
          },
          "metadata": {}
        },
        {
          "output_type": "stream",
          "name": "stdout",
          "text": [
            "Saving customers.csv to customers (1).csv\n",
            "Saving delivery_status.csv to delivery_status (1).csv\n",
            "Saving orders.csv to orders (1).csv\n"
          ]
        }
      ]
    },
    {
      "cell_type": "code",
      "source": [
        "# Load CSV files into DataFrames\n",
        "orders_df = spark.read.csv(\"orders.csv\", header=True, inferSchema=True)\n",
        "delivery_df = spark.read.csv(\"delivery_status.csv\", header=True, inferSchema=True)\n",
        "customers_df = spark.read.csv(\"customers.csv\", header=True, inferSchema=True)"
      ],
      "metadata": {
        "id": "UTaC8nZOQf-L"
      },
      "execution_count": 29,
      "outputs": []
    },
    {
      "cell_type": "code",
      "source": [
        "# Display Orders Schema\n",
        "orders_df.printSchema()"
      ],
      "metadata": {
        "colab": {
          "base_uri": "https://localhost:8080/"
        },
        "id": "dfxr2ONmRjTw",
        "outputId": "de69d64e-89b2-43b5-f3fb-7c7309d872d9"
      },
      "execution_count": 30,
      "outputs": [
        {
          "output_type": "stream",
          "name": "stdout",
          "text": [
            "root\n",
            " |-- order_id: integer (nullable = true)\n",
            " |-- customer_id: integer (nullable = true)\n",
            " |-- product_id: integer (nullable = true)\n",
            " |-- order_date: date (nullable = true)\n",
            " |-- delivery_date: date (nullable = true)\n",
            " |-- status: string (nullable = true)\n",
            "\n"
          ]
        }
      ]
    },
    {
      "cell_type": "code",
      "source": [
        "# Display Delivery_Status Schema\n",
        "delivery_df.printSchema()"
      ],
      "metadata": {
        "colab": {
          "base_uri": "https://localhost:8080/"
        },
        "id": "qZatbG5VRjJ-",
        "outputId": "5a74d673-895a-485b-d288-3e13b814d300"
      },
      "execution_count": 31,
      "outputs": [
        {
          "output_type": "stream",
          "name": "stdout",
          "text": [
            "root\n",
            " |-- status_id: integer (nullable = true)\n",
            " |-- order_id: integer (nullable = true)\n",
            " |-- current_status: string (nullable = true)\n",
            " |-- updated_at: timestamp (nullable = true)\n",
            "\n"
          ]
        }
      ]
    },
    {
      "cell_type": "code",
      "source": [
        "# Display Customers Schema\n",
        "customers_df.printSchema()"
      ],
      "metadata": {
        "colab": {
          "base_uri": "https://localhost:8080/"
        },
        "id": "k6KBFacARi4N",
        "outputId": "ffcce5ba-3407-407e-b08b-24a59a151757"
      },
      "execution_count": 33,
      "outputs": [
        {
          "output_type": "stream",
          "name": "stdout",
          "text": [
            "root\n",
            " |-- customer_id: integer (nullable = true)\n",
            " |-- name: string (nullable = true)\n",
            " |-- contact_info: string (nullable = true)\n",
            " |-- address: string (nullable = true)\n",
            "\n"
          ]
        }
      ]
    },
    {
      "cell_type": "code",
      "source": [
        "# Clean and convert types\n",
        "orders_df = orders_df.withColumn(\"order_date\", to_date(\"order_date\")) \\\n",
        "                     .withColumn(\"delivery_date\", to_date(\"delivery_date\"))\n",
        "\n",
        "delivery_df = delivery_df.withColumn(\"updated_at\", col(\"updated_at\").cast(TimestampType()))\n",
        "\n",
        "orders_df.select(\"order_id\", \"order_date\", \"delivery_date\").show()\n",
        "delivery_df.select(\"order_id\", \"updated_at\").show()"
      ],
      "metadata": {
        "colab": {
          "base_uri": "https://localhost:8080/"
        },
        "id": "CXpOAQWoQi4D",
        "outputId": "c6c1c470-0a26-49c2-92a0-1698dfa47b4d"
      },
      "execution_count": 34,
      "outputs": [
        {
          "output_type": "stream",
          "name": "stdout",
          "text": [
            "+--------+----------+-------------+\n",
            "|order_id|order_date|delivery_date|\n",
            "+--------+----------+-------------+\n",
            "|       1|2025-07-01|   2025-07-04|\n",
            "|       2|2025-07-02|   2025-07-05|\n",
            "|       3|2025-07-03|   2025-07-06|\n",
            "|       4|2025-07-04|   2025-07-07|\n",
            "|       5|2025-07-05|   2025-07-09|\n",
            "|       6|2025-07-06|   2025-07-10|\n",
            "|       7|2025-07-07|   2025-07-11|\n",
            "|       8|2025-07-08|   2025-07-12|\n",
            "|       9|2025-07-09|   2025-07-13|\n",
            "|      10|2025-07-10|   2025-07-14|\n",
            "+--------+----------+-------------+\n",
            "\n",
            "+--------+-------------------+\n",
            "|order_id|         updated_at|\n",
            "+--------+-------------------+\n",
            "|       1|2025-07-04 18:00:00|\n",
            "|       2|2025-07-05 17:30:00|\n",
            "|       3|2025-07-06 12:45:00|\n",
            "|       4|2025-07-07 10:15:00|\n",
            "|       5|2025-07-08 09:00:00|\n",
            "|       6|2025-07-10 19:10:00|\n",
            "|       7|2025-07-11 13:20:00|\n",
            "|       8|2025-07-12 20:30:00|\n",
            "|       9|2025-07-13 11:50:00|\n",
            "|      10|2025-07-14 16:40:00|\n",
            "+--------+-------------------+\n",
            "\n"
          ]
        }
      ]
    },
    {
      "cell_type": "code",
      "source": [
        "# 2. Join orders + delivery_status + customers tables\n",
        "joined_df = orders_df.join(delivery_df, orders_df[\"order_id\"] == delivery_df[\"order_id\"]) \\\n",
        "                     .join(customers_df, orders_df[\"customer_id\"] == customers_df[\"customer_id\"])\n",
        "\n",
        "joined_df.show()\n",
        "joined_df.printSchema()"
      ],
      "metadata": {
        "colab": {
          "base_uri": "https://localhost:8080/"
        },
        "id": "0Nfm9qWUQtOz",
        "outputId": "78208570-91bf-4412-8b1f-fc4541fd02a1"
      },
      "execution_count": 35,
      "outputs": [
        {
          "output_type": "stream",
          "name": "stdout",
          "text": [
            "+--------+-----------+----------+----------+-------------+----------+---------+--------+--------------+-------------------+-----------+------------+------------------+----------------+\n",
            "|order_id|customer_id|product_id|order_date|delivery_date|    status|status_id|order_id|current_status|         updated_at|customer_id|        name|      contact_info|         address|\n",
            "+--------+-----------+----------+----------+-------------+----------+---------+--------+--------------+-------------------+-----------+------------+------------------+----------------+\n",
            "|       1|          1|       101|2025-07-01|   2025-07-04| Delivered|        1|       1|     Delivered|2025-07-04 18:00:00|          1|Anjali Mehta|anjali@example.com|   Mumbai, India|\n",
            "|       2|          2|       102|2025-07-02|   2025-07-05| Delivered|        2|       2|     Delivered|2025-07-05 17:30:00|          2|Rohit Sharma| rohit@example.com|    Delhi, India|\n",
            "|       3|          3|       103|2025-07-03|   2025-07-06|   Shipped|        3|       3|       Shipped|2025-07-06 12:45:00|          3| Priya Reddy| priya@example.com|Hyderabad, India|\n",
            "|       4|          4|       104|2025-07-04|   2025-07-07|Processing|        4|       4|    Processing|2025-07-07 10:15:00|          4| Karan Patel| karan@example.com|Ahmedabad, India|\n",
            "|       5|          5|       105|2025-07-05|   2025-07-09| Cancelled|        5|       5|     Cancelled|2025-07-08 09:00:00|          5|  Neha Singh|  neha@example.com|     Pune, India|\n",
            "|       6|          6|       106|2025-07-06|   2025-07-10| Delivered|        6|       6|     Delivered|2025-07-10 19:10:00|          6|  Amit Verma|  amit@example.com|  Chennai, India|\n",
            "|       7|          7|       107|2025-07-07|   2025-07-11|   Shipped|        7|       7|       Shipped|2025-07-11 13:20:00|          7|  Sneha Iyer| sneha@example.com|Bangalore, India|\n",
            "|       8|          8|       108|2025-07-08|   2025-07-12| Delivered|        8|       8|     Delivered|2025-07-12 20:30:00|          8|Rajiv Kapoor| rajiv@example.com|  Kolkata, India|\n",
            "|       9|          9|       109|2025-07-09|   2025-07-13|Processing|        9|       9|    Processing|2025-07-13 11:50:00|          9|  Divya Nair| divya@example.com|    Kochi, India|\n",
            "|      10|         10|       110|2025-07-10|   2025-07-14| Delivered|       10|      10|     Delivered|2025-07-14 16:40:00|         10| Manish Jain|manish@example.com|   Jaipur, India|\n",
            "+--------+-----------+----------+----------+-------------+----------+---------+--------+--------------+-------------------+-----------+------------+------------------+----------------+\n",
            "\n",
            "root\n",
            " |-- order_id: integer (nullable = true)\n",
            " |-- customer_id: integer (nullable = true)\n",
            " |-- product_id: integer (nullable = true)\n",
            " |-- order_date: date (nullable = true)\n",
            " |-- delivery_date: date (nullable = true)\n",
            " |-- status: string (nullable = true)\n",
            " |-- status_id: integer (nullable = true)\n",
            " |-- order_id: integer (nullable = true)\n",
            " |-- current_status: string (nullable = true)\n",
            " |-- updated_at: timestamp (nullable = true)\n",
            " |-- customer_id: integer (nullable = true)\n",
            " |-- name: string (nullable = true)\n",
            " |-- contact_info: string (nullable = true)\n",
            " |-- address: string (nullable = true)\n",
            "\n"
          ]
        }
      ]
    },
    {
      "cell_type": "code",
      "source": [
        "# Add delay column (based on delivery_date vs updated_at)\n",
        "# Rename order_id in delivery_df before joining\n",
        "delivery_df = delivery_df.withColumnRenamed(\"order_id\", \"delivery_order_id\")\n",
        "\n",
        "# Join safely\n",
        "joined_df = orders_df.join(delivery_df, orders_df.order_id == delivery_df.delivery_order_id, \"inner\") \\\n",
        "                     .join(customers_df, \"customer_id\")\n",
        "\n",
        "# Add the delay column\n",
        "joined_df = joined_df.withColumn(\n",
        "    \"is_delayed\",\n",
        "    when(col(\"updated_at\").cast(\"date\") > col(\"delivery_date\"), 1).otherwise(0)\n",
        ")\n",
        "\n",
        "# Select with renamed columns\n",
        "joined_df.select(\"order_id\", \"delivery_date\", \"updated_at\", \"is_delayed\").show()\n"
      ],
      "metadata": {
        "colab": {
          "base_uri": "https://localhost:8080/"
        },
        "id": "xvh-46L-QwJN",
        "outputId": "81621540-2d51-4a02-fe4b-f33ccb2d35b4"
      },
      "execution_count": 41,
      "outputs": [
        {
          "output_type": "stream",
          "name": "stdout",
          "text": [
            "+--------+-------------+-------------------+----------+\n",
            "|order_id|delivery_date|         updated_at|is_delayed|\n",
            "+--------+-------------+-------------------+----------+\n",
            "|       1|   2025-07-04|2025-07-04 18:00:00|         0|\n",
            "|       2|   2025-07-05|2025-07-05 17:30:00|         0|\n",
            "|       3|   2025-07-06|2025-07-06 12:45:00|         0|\n",
            "|       4|   2025-07-07|2025-07-07 10:15:00|         0|\n",
            "|       5|   2025-07-09|2025-07-08 09:00:00|         0|\n",
            "|       6|   2025-07-10|2025-07-10 19:10:00|         0|\n",
            "|       7|   2025-07-11|2025-07-11 13:20:00|         0|\n",
            "|       8|   2025-07-12|2025-07-12 20:30:00|         0|\n",
            "|       9|   2025-07-13|2025-07-13 11:50:00|         0|\n",
            "|      10|   2025-07-14|2025-07-14 16:40:00|         0|\n",
            "+--------+-------------+-------------------+----------+\n",
            "\n"
          ]
        }
      ]
    },
    {
      "cell_type": "code",
      "source": [
        "#  Extract region (e.g., city) from address\n",
        "joined_df = joined_df.withColumn(\"region\", split(col(\"address\"), \",\").getItem(0))\n",
        "\n",
        "joined_df.select(\"customer_id\", \"address\", \"region\").show()"
      ],
      "metadata": {
        "colab": {
          "base_uri": "https://localhost:8080/"
        },
        "id": "MCW-x6bsQ3G1",
        "outputId": "6d1bf4dd-b265-4f3b-a62e-bda85004b3f7"
      },
      "execution_count": 42,
      "outputs": [
        {
          "output_type": "stream",
          "name": "stdout",
          "text": [
            "+-----------+----------------+---------+\n",
            "|customer_id|         address|   region|\n",
            "+-----------+----------------+---------+\n",
            "|          1|   Mumbai, India|   Mumbai|\n",
            "|          2|    Delhi, India|    Delhi|\n",
            "|          3|Hyderabad, India|Hyderabad|\n",
            "|          4|Ahmedabad, India|Ahmedabad|\n",
            "|          5|     Pune, India|     Pune|\n",
            "|          6|  Chennai, India|  Chennai|\n",
            "|          7|Bangalore, India|Bangalore|\n",
            "|          8|  Kolkata, India|  Kolkata|\n",
            "|          9|    Kochi, India|    Kochi|\n",
            "|         10|   Jaipur, India|   Jaipur|\n",
            "+-----------+----------------+---------+\n",
            "\n"
          ]
        }
      ]
    },
    {
      "cell_type": "code",
      "source": [
        "#  3. Group by region to count delayed orders\n",
        "delay_by_region = joined_df.groupBy(\"region\").agg(count(when(col(\"is_delayed\") == 1, True)).alias(\"delayed_orders\"))\n",
        "\n",
        "# Show result\n",
        "delay_by_region.show()"
      ],
      "metadata": {
        "colab": {
          "base_uri": "https://localhost:8080/"
        },
        "id": "jn8q8SLQRD0D",
        "outputId": "e0737ec1-6a03-4101-b3cb-8e56203186a6"
      },
      "execution_count": 43,
      "outputs": [
        {
          "output_type": "stream",
          "name": "stdout",
          "text": [
            "+---------+--------------+\n",
            "|   region|delayed_orders|\n",
            "+---------+--------------+\n",
            "|Bangalore|             0|\n",
            "|    Kochi|             0|\n",
            "|  Chennai|             0|\n",
            "|   Mumbai|             0|\n",
            "|Ahmedabad|             0|\n",
            "|  Kolkata|             0|\n",
            "|     Pune|             0|\n",
            "|    Delhi|             0|\n",
            "|Hyderabad|             0|\n",
            "|   Jaipur|             0|\n",
            "+---------+--------------+\n",
            "\n"
          ]
        }
      ]
    },
    {
      "cell_type": "code",
      "source": [
        "# 4. Save to CSV\n",
        "delay_by_region.write.mode(\"overwrite\").csv(\"output/delayed_orders_by_region\", header=True)"
      ],
      "metadata": {
        "id": "YtAV22n8RJoS"
      },
      "execution_count": 45,
      "outputs": []
    },
    {
      "cell_type": "markdown",
      "source": [
        "Deliverables:\n",
        "\n",
        "      1. PySpark script with join, group, and aggregation\n",
        "      2. Output file showing delayed orders by region"
      ],
      "metadata": {
        "id": "RjD8TzZOUwj9"
      }
    },
    {
      "cell_type": "code",
      "source": [
        "# Merge parts into one file\n",
        "!cat output/delayed_orders_by_region/part-*.csv > delayed_orders_by_region.csv\n",
        "\n",
        "# 2. Download if using Google Colab(Output file showing delayed orders by region)\n",
        "from google.colab import files\n",
        "files.download(\"delayed_orders_by_region.csv\")"
      ],
      "metadata": {
        "colab": {
          "base_uri": "https://localhost:8080/",
          "height": 17
        },
        "id": "Qbv3T-BpRLVL",
        "outputId": "9a16fb6a-9701-415c-8fe0-d4f8873fece3"
      },
      "execution_count": 46,
      "outputs": [
        {
          "output_type": "display_data",
          "data": {
            "text/plain": [
              "<IPython.core.display.Javascript object>"
            ],
            "application/javascript": [
              "\n",
              "    async function download(id, filename, size) {\n",
              "      if (!google.colab.kernel.accessAllowed) {\n",
              "        return;\n",
              "      }\n",
              "      const div = document.createElement('div');\n",
              "      const label = document.createElement('label');\n",
              "      label.textContent = `Downloading \"${filename}\": `;\n",
              "      div.appendChild(label);\n",
              "      const progress = document.createElement('progress');\n",
              "      progress.max = size;\n",
              "      div.appendChild(progress);\n",
              "      document.body.appendChild(div);\n",
              "\n",
              "      const buffers = [];\n",
              "      let downloaded = 0;\n",
              "\n",
              "      const channel = await google.colab.kernel.comms.open(id);\n",
              "      // Send a message to notify the kernel that we're ready.\n",
              "      channel.send({})\n",
              "\n",
              "      for await (const message of channel.messages) {\n",
              "        // Send a message to notify the kernel that we're ready.\n",
              "        channel.send({})\n",
              "        if (message.buffers) {\n",
              "          for (const buffer of message.buffers) {\n",
              "            buffers.push(buffer);\n",
              "            downloaded += buffer.byteLength;\n",
              "            progress.value = downloaded;\n",
              "          }\n",
              "        }\n",
              "      }\n",
              "      const blob = new Blob(buffers, {type: 'application/binary'});\n",
              "      const a = document.createElement('a');\n",
              "      a.href = window.URL.createObjectURL(blob);\n",
              "      a.download = filename;\n",
              "      div.appendChild(a);\n",
              "      a.click();\n",
              "      div.remove();\n",
              "    }\n",
              "  "
            ]
          },
          "metadata": {}
        },
        {
          "output_type": "display_data",
          "data": {
            "text/plain": [
              "<IPython.core.display.Javascript object>"
            ],
            "application/javascript": [
              "download(\"download_b8d1be9a-d9c4-48dd-8393-a8633ab622a3\", \"delayed_orders_by_region.csv\", 119)"
            ]
          },
          "metadata": {}
        }
      ]
    }
  ]
}