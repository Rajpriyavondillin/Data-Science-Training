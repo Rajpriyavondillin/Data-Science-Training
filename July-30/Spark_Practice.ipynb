{
  "nbformat": 4,
  "nbformat_minor": 0,
  "metadata": {
    "colab": {
      "provenance": []
    },
    "kernelspec": {
      "name": "python3",
      "display_name": "Python 3"
    },
    "language_info": {
      "name": "python"
    }
  },
  "cells": [
    {
      "cell_type": "code",
      "execution_count": null,
      "metadata": {
        "id": "aNojPWuFwCFI"
      },
      "outputs": [],
      "source": [
        "# Spark is the entry point\n",
        "\n",
        "from pyspark.sql import SparkSession\n"
      ]
    },
    {
      "cell_type": "code",
      "source": [
        "# Spark is used for large data - for simple data pandas is enough\n",
        "\n",
        "# Create Spark session\n",
        "spark = SparkSession.builder.appName('PysparkBasics').getOrCreate()\n",
        "\n",
        "# Confirm spark is running\n",
        "spark"
      ],
      "metadata": {
        "colab": {
          "base_uri": "https://localhost:8080/",
          "height": 222
        },
        "id": "6Fp50yGGwcHE",
        "outputId": "a27c571a-dee8-4511-ae44-618f98f34f5e"
      },
      "execution_count": null,
      "outputs": [
        {
          "output_type": "execute_result",
          "data": {
            "text/plain": [
              "<pyspark.sql.session.SparkSession at 0x7882d8575a90>"
            ],
            "text/html": [
              "\n",
              "            <div>\n",
              "                <p><b>SparkSession - in-memory</b></p>\n",
              "                \n",
              "        <div>\n",
              "            <p><b>SparkContext</b></p>\n",
              "\n",
              "            <p><a href=\"http://27239856511f:4040\">Spark UI</a></p>\n",
              "\n",
              "            <dl>\n",
              "              <dt>Version</dt>\n",
              "                <dd><code>v3.5.1</code></dd>\n",
              "              <dt>Master</dt>\n",
              "                <dd><code>local[*]</code></dd>\n",
              "              <dt>AppName</dt>\n",
              "                <dd><code>PysparkBasics</code></dd>\n",
              "            </dl>\n",
              "        </div>\n",
              "        \n",
              "            </div>\n",
              "        "
            ]
          },
          "metadata": {},
          "execution_count": 2
        }
      ]
    },
    {
      "cell_type": "code",
      "source": [
        "# Sample data\n",
        "data=[(\"Amit\",25), (\"Sneha\",30), (\"Kabir\",28)]\n",
        "columns = [\"Name\", \"Age\"]\n",
        "\n",
        "# Create DataFrame\n",
        "df = spark.createDataFrame(data, columns)\n",
        "\n",
        "# Show data\n",
        "df.show()"
      ],
      "metadata": {
        "colab": {
          "base_uri": "https://localhost:8080/"
        },
        "id": "YtT6iQRpxzRV",
        "outputId": "f02fa3f4-5019-4006-e955-fa103f35067f"
      },
      "execution_count": null,
      "outputs": [
        {
          "output_type": "stream",
          "name": "stdout",
          "text": [
            "+-----+---+\n",
            "| Name|Age|\n",
            "+-----+---+\n",
            "| Amit| 25|\n",
            "|Sneha| 30|\n",
            "|Kabir| 28|\n",
            "+-----+---+\n",
            "\n"
          ]
        }
      ]
    },
    {
      "cell_type": "code",
      "source": [
        "csv_data = \"\"\"EmpID,Name,Department\n",
        "101,Amit,Sales\n",
        "102,Anita,Engineering\n",
        "103,Kabir,HR\n",
        "104,Sneha,Marketing\n",
        "105,Ravi,Engineering\n",
        "\"\"\"\n",
        "\n",
        "with open('employees.csv','w')as f:\n",
        "  f.write(csv_data)\n"
      ],
      "metadata": {
        "id": "jZ_rk4jg1vc9"
      },
      "execution_count": null,
      "outputs": []
    },
    {
      "cell_type": "code",
      "source": [
        "# inferSchema is a parameter used when reading data (like CSV, JSON, etc.) in PySpark.\n",
        "df=spark.read.csv('employees.csv',header=True,inferSchema=True)\n",
        "df.show()\n",
        "df.printSchema()"
      ],
      "metadata": {
        "colab": {
          "base_uri": "https://localhost:8080/"
        },
        "id": "lq00JPyQ25R1",
        "outputId": "d7cbb0fd-e97d-4d9c-8493-61438645821b"
      },
      "execution_count": null,
      "outputs": [
        {
          "output_type": "stream",
          "name": "stdout",
          "text": [
            "+-----+-----+-----------+\n",
            "|EmpID| Name| Department|\n",
            "+-----+-----+-----------+\n",
            "|  101| Amit|      Sales|\n",
            "|  102|Anita|Engineering|\n",
            "|  103|Kabir|         HR|\n",
            "|  104|Sneha|  Marketing|\n",
            "|  105| Ravi|Engineering|\n",
            "+-----+-----+-----------+\n",
            "\n",
            "root\n",
            " |-- EmpID: integer (nullable = true)\n",
            " |-- Name: string (nullable = true)\n",
            " |-- Department: string (nullable = true)\n",
            "\n"
          ]
        }
      ]
    }
  ]
}