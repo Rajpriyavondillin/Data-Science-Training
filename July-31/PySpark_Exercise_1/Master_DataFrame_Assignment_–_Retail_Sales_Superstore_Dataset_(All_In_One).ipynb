{
  "nbformat": 4,
  "nbformat_minor": 0,
  "metadata": {
    "colab": {
      "provenance": []
    },
    "kernelspec": {
      "name": "python3",
      "display_name": "Python 3"
    },
    "language_info": {
      "name": "python"
    }
  },
  "cells": [
    {
      "cell_type": "markdown",
      "source": [
        "# Master DataFrame Assignment – Retail Sales Superstore Dataset (All-In-One)"
      ],
      "metadata": {
        "id": "KXclE2lOuudp"
      }
    },
    {
      "cell_type": "markdown",
      "source": [
        "##  Sample Dataset (create CSV)"
      ],
      "metadata": {
        "id": "m-sKqcGkuxuN"
      }
    },
    {
      "cell_type": "code",
      "execution_count": 4,
      "metadata": {
        "colab": {
          "base_uri": "https://localhost:8080/"
        },
        "id": "-ri-M7LvupRH",
        "outputId": "31625830-5562-4f40-f4ba-f4cf2464b595"
      },
      "outputs": [
        {
          "output_type": "stream",
          "name": "stdout",
          "text": [
            "CSV file 'superstore.csv' created successfully.\n"
          ]
        }
      ],
      "source": [
        "# Save superstore.csv\n",
        "data = \"\"\"OrderID,OrderDate,Customer,Segment,Region,Product,Category,SubCategory,Quantity,UnitPrice,Discount,Profit\n",
        "CA-1001,2023-01-15,Ravi,Consumer,South,Laptop,Technology,Computers,1,55000,0.10,5000\n",
        "CA-1002,2023-02-20,Priya,Corporate,North,Printer,Technology,Peripherals,2,12000,0.15,1800\n",
        "CA-1003,2023-01-25,Amit,Consumer,East,Notebook,Office Supplies,Paper,3,200,0.05,150\n",
        "CA-1004,2023-03-01,Anita,Home Office,West,Table,Furniture,Tables,1,18000,0.20,-1500\n",
        "CA-1005,2023-02-05,Divya,Consumer,South,Phone,Technology,Phones,2,20000,0.00,3000\n",
        "\"\"\"\n",
        "\n",
        "with open(\"superstore.csv\", \"w\") as file:\n",
        "    file.write(data)\n",
        "\n",
        "print(\"CSV file 'superstore.csv' created successfully.\")"
      ]
    },
    {
      "cell_type": "markdown",
      "source": [
        "### Download the 'superstore.csv' file"
      ],
      "metadata": {
        "id": "eyBW6Hr0vtjD"
      }
    },
    {
      "cell_type": "code",
      "source": [
        "from google.colab import files\n",
        "files.download('superstore.csv')"
      ],
      "metadata": {
        "colab": {
          "base_uri": "https://localhost:8080/",
          "height": 17
        },
        "id": "ZiYkmF0Bvs0z",
        "outputId": "48f28101-8d4a-42ab-bf16-fac1ef3880fb"
      },
      "execution_count": 5,
      "outputs": [
        {
          "output_type": "display_data",
          "data": {
            "text/plain": [
              "<IPython.core.display.Javascript object>"
            ],
            "application/javascript": [
              "\n",
              "    async function download(id, filename, size) {\n",
              "      if (!google.colab.kernel.accessAllowed) {\n",
              "        return;\n",
              "      }\n",
              "      const div = document.createElement('div');\n",
              "      const label = document.createElement('label');\n",
              "      label.textContent = `Downloading \"${filename}\": `;\n",
              "      div.appendChild(label);\n",
              "      const progress = document.createElement('progress');\n",
              "      progress.max = size;\n",
              "      div.appendChild(progress);\n",
              "      document.body.appendChild(div);\n",
              "\n",
              "      const buffers = [];\n",
              "      let downloaded = 0;\n",
              "\n",
              "      const channel = await google.colab.kernel.comms.open(id);\n",
              "      // Send a message to notify the kernel that we're ready.\n",
              "      channel.send({})\n",
              "\n",
              "      for await (const message of channel.messages) {\n",
              "        // Send a message to notify the kernel that we're ready.\n",
              "        channel.send({})\n",
              "        if (message.buffers) {\n",
              "          for (const buffer of message.buffers) {\n",
              "            buffers.push(buffer);\n",
              "            downloaded += buffer.byteLength;\n",
              "            progress.value = downloaded;\n",
              "          }\n",
              "        }\n",
              "      }\n",
              "      const blob = new Blob(buffers, {type: 'application/binary'});\n",
              "      const a = document.createElement('a');\n",
              "      a.href = window.URL.createObjectURL(blob);\n",
              "      a.download = filename;\n",
              "      div.appendChild(a);\n",
              "      a.click();\n",
              "      div.remove();\n",
              "    }\n",
              "  "
            ]
          },
          "metadata": {}
        },
        {
          "output_type": "display_data",
          "data": {
            "text/plain": [
              "<IPython.core.display.Javascript object>"
            ],
            "application/javascript": [
              "download(\"download_43abb9c6-17ac-4a93-a068-53fd8e1ffbc0\", \"superstore.csv\", 531)"
            ]
          },
          "metadata": {}
        }
      ]
    },
    {
      "cell_type": "markdown",
      "source": [
        "## TASKS ACROSS Pandas, PySpark, and Dask"
      ],
      "metadata": {
        "id": "G_WzVEU3wEZU"
      }
    },
    {
      "cell_type": "markdown",
      "source": [
        "## PART 1: Pandas DataFrame Operations"
      ],
      "metadata": {
        "id": "GDk-Lbu9wIrw"
      }
    },
    {
      "cell_type": "markdown",
      "source": [
        "#### 1. Load the CSV using pandas ."
      ],
      "metadata": {
        "id": "3kWGVjkvw_mI"
      }
    },
    {
      "cell_type": "code",
      "source": [
        "import pandas as pd\n",
        "\n",
        "df = pd.read_csv('superstore.csv')"
      ],
      "metadata": {
        "id": "PYCkKG_ewLaR"
      },
      "execution_count": 6,
      "outputs": []
    },
    {
      "cell_type": "markdown",
      "source": [
        "#### 2. Print schema, head, shape, dtypes."
      ],
      "metadata": {
        "id": "fXUad1APxT0q"
      }
    },
    {
      "cell_type": "code",
      "source": [
        "# For detailed schema-like view in Pandas\n",
        "print(df.info())"
      ],
      "metadata": {
        "colab": {
          "base_uri": "https://localhost:8080/"
        },
        "id": "M2b7hC6expwo",
        "outputId": "fdefe0c5-4958-4de4-d95e-a49367aa2c46"
      },
      "execution_count": 8,
      "outputs": [
        {
          "output_type": "stream",
          "name": "stdout",
          "text": [
            "<class 'pandas.core.frame.DataFrame'>\n",
            "RangeIndex: 5 entries, 0 to 4\n",
            "Data columns (total 12 columns):\n",
            " #   Column       Non-Null Count  Dtype  \n",
            "---  ------       --------------  -----  \n",
            " 0   OrderID      5 non-null      object \n",
            " 1   OrderDate    5 non-null      object \n",
            " 2   Customer     5 non-null      object \n",
            " 3   Segment      5 non-null      object \n",
            " 4   Region       5 non-null      object \n",
            " 5   Product      5 non-null      object \n",
            " 6   Category     5 non-null      object \n",
            " 7   SubCategory  5 non-null      object \n",
            " 8   Quantity     5 non-null      int64  \n",
            " 9   UnitPrice    5 non-null      int64  \n",
            " 10  Discount     5 non-null      float64\n",
            " 11  Profit       5 non-null      int64  \n",
            "dtypes: float64(1), int64(3), object(8)\n",
            "memory usage: 612.0+ bytes\n",
            "None\n"
          ]
        }
      ]
    },
    {
      "cell_type": "code",
      "source": [
        "print(df.head())"
      ],
      "metadata": {
        "colab": {
          "base_uri": "https://localhost:8080/"
        },
        "id": "BH3qxb1g0cb8",
        "outputId": "1972e98b-cc6a-4d09-f6b5-444225487334"
      },
      "execution_count": 9,
      "outputs": [
        {
          "output_type": "stream",
          "name": "stdout",
          "text": [
            "   OrderID   OrderDate Customer      Segment Region   Product  \\\n",
            "0  CA-1001  2023-01-15     Ravi     Consumer  South    Laptop   \n",
            "1  CA-1002  2023-02-20    Priya    Corporate  North   Printer   \n",
            "2  CA-1003  2023-01-25     Amit     Consumer   East  Notebook   \n",
            "3  CA-1004  2023-03-01    Anita  Home Office   West     Table   \n",
            "4  CA-1005  2023-02-05    Divya     Consumer  South     Phone   \n",
            "\n",
            "          Category  SubCategory  Quantity  UnitPrice  Discount  Profit  \n",
            "0       Technology    Computers         1      55000      0.10    5000  \n",
            "1       Technology  Peripherals         2      12000      0.15    1800  \n",
            "2  Office Supplies        Paper         3        200      0.05     150  \n",
            "3        Furniture       Tables         1      18000      0.20   -1500  \n",
            "4       Technology       Phones         2      20000      0.00    3000  \n"
          ]
        }
      ]
    },
    {
      "cell_type": "code",
      "source": [
        "print(df.shape)"
      ],
      "metadata": {
        "colab": {
          "base_uri": "https://localhost:8080/"
        },
        "id": "7ql3FvpK0eG0",
        "outputId": "b2d78858-f7da-437c-c918-c190b962c08d"
      },
      "execution_count": 10,
      "outputs": [
        {
          "output_type": "stream",
          "name": "stdout",
          "text": [
            "(5, 12)\n"
          ]
        }
      ]
    },
    {
      "cell_type": "code",
      "source": [
        "print(df.dtypes)"
      ],
      "metadata": {
        "colab": {
          "base_uri": "https://localhost:8080/"
        },
        "id": "OUvPxDs50gOB",
        "outputId": "81dd2965-1fcd-4d76-cbfa-ba7e435f42ff"
      },
      "execution_count": 11,
      "outputs": [
        {
          "output_type": "stream",
          "name": "stdout",
          "text": [
            "OrderID         object\n",
            "OrderDate       object\n",
            "Customer        object\n",
            "Segment         object\n",
            "Region          object\n",
            "Product         object\n",
            "Category        object\n",
            "SubCategory     object\n",
            "Quantity         int64\n",
            "UnitPrice        int64\n",
            "Discount       float64\n",
            "Profit           int64\n",
            "dtype: object\n"
          ]
        }
      ]
    },
    {
      "cell_type": "markdown",
      "source": [
        "#### 3. Select Customer , Product , Profit columns."
      ],
      "metadata": {
        "id": "GoWgSNkNxTyL"
      }
    },
    {
      "cell_type": "code",
      "source": [
        "print(df[[\"Customer\", \"Product\", \"Profit\"]])"
      ],
      "metadata": {
        "colab": {
          "base_uri": "https://localhost:8080/"
        },
        "id": "AdCFrGg-0WYn",
        "outputId": "d11aeb20-530e-4bc0-c47e-28b9ad738ad9"
      },
      "execution_count": 14,
      "outputs": [
        {
          "output_type": "stream",
          "name": "stdout",
          "text": [
            "  Customer   Product  Profit\n",
            "0     Ravi    Laptop    5000\n",
            "1    Priya   Printer    1800\n",
            "2     Amit  Notebook     150\n",
            "3    Anita     Table   -1500\n",
            "4    Divya     Phone    3000\n"
          ]
        }
      ]
    },
    {
      "cell_type": "markdown",
      "source": [
        "#### 4. Filter orders where Profit > 2000 and Discount = 0 ."
      ],
      "metadata": {
        "id": "SKgSp0eIxTvZ"
      }
    },
    {
      "cell_type": "code",
      "source": [
        "print(df[(df[\"Profit\"] > 2000) & (df[\"Discount\"] == 0)])"
      ],
      "metadata": {
        "colab": {
          "base_uri": "https://localhost:8080/"
        },
        "id": "TQZD8qoL1E-u",
        "outputId": "edf22dcb-7a54-4ed6-d9fb-6c6df6e9a8fe"
      },
      "execution_count": 15,
      "outputs": [
        {
          "output_type": "stream",
          "name": "stdout",
          "text": [
            "   OrderID   OrderDate Customer   Segment Region Product    Category  \\\n",
            "4  CA-1005  2023-02-05    Divya  Consumer  South   Phone  Technology   \n",
            "\n",
            "  SubCategory  Quantity  UnitPrice  Discount  Profit  \n",
            "4      Phones         2      20000       0.0    3000  \n"
          ]
        }
      ]
    },
    {
      "cell_type": "markdown",
      "source": [
        "#### 5. Sort by Profit descending."
      ],
      "metadata": {
        "id": "iw29kS-HxTp4"
      }
    },
    {
      "cell_type": "code",
      "source": [
        "print(df.sort_values(by = \"Profit\", ascending = False))"
      ],
      "metadata": {
        "colab": {
          "base_uri": "https://localhost:8080/"
        },
        "id": "HgBVMoWq1RTt",
        "outputId": "69edba86-4e6d-48a3-d820-988a36e788b8"
      },
      "execution_count": 16,
      "outputs": [
        {
          "output_type": "stream",
          "name": "stdout",
          "text": [
            "   OrderID   OrderDate Customer      Segment Region   Product  \\\n",
            "0  CA-1001  2023-01-15     Ravi     Consumer  South    Laptop   \n",
            "4  CA-1005  2023-02-05    Divya     Consumer  South     Phone   \n",
            "1  CA-1002  2023-02-20    Priya    Corporate  North   Printer   \n",
            "2  CA-1003  2023-01-25     Amit     Consumer   East  Notebook   \n",
            "3  CA-1004  2023-03-01    Anita  Home Office   West     Table   \n",
            "\n",
            "          Category  SubCategory  Quantity  UnitPrice  Discount  Profit  \n",
            "0       Technology    Computers         1      55000      0.10    5000  \n",
            "4       Technology       Phones         2      20000      0.00    3000  \n",
            "1       Technology  Peripherals         2      12000      0.15    1800  \n",
            "2  Office Supplies        Paper         3        200      0.05     150  \n",
            "3        Furniture       Tables         1      18000      0.20   -1500  \n"
          ]
        }
      ]
    },
    {
      "cell_type": "markdown",
      "source": [
        "#### 6. GroupBy Category → Total Profit, Avg Discount."
      ],
      "metadata": {
        "id": "p9ULg-SZxTm4"
      }
    },
    {
      "cell_type": "code",
      "source": [
        "print(df.groupby(\"Category\").agg({\"Profit\": \"sum\", \"Discount\": \"mean\"}))"
      ],
      "metadata": {
        "colab": {
          "base_uri": "https://localhost:8080/"
        },
        "id": "2XtIk7PY1cWu",
        "outputId": "cae37599-efd0-48aa-9bf6-afb8f8587c5e"
      },
      "execution_count": 17,
      "outputs": [
        {
          "output_type": "stream",
          "name": "stdout",
          "text": [
            "                 Profit  Discount\n",
            "Category                         \n",
            "Furniture         -1500  0.200000\n",
            "Office Supplies     150  0.050000\n",
            "Technology         9800  0.083333\n"
          ]
        }
      ]
    },
    {
      "cell_type": "markdown",
      "source": [
        "#### 7. Add a column TotalPrice = Quantity * UnitPrice ."
      ],
      "metadata": {
        "id": "cKW1rjhjxTe_"
      }
    },
    {
      "cell_type": "code",
      "source": [
        "df[\"TotalPrice\"] = df[\"Quantity\"] * df[\"UnitPrice\"]\n",
        "print(df)"
      ],
      "metadata": {
        "colab": {
          "base_uri": "https://localhost:8080/"
        },
        "id": "oSdUtoo81qLl",
        "outputId": "b1c2bbb1-66a8-4ecc-b10b-22bdc59578cf"
      },
      "execution_count": 18,
      "outputs": [
        {
          "output_type": "stream",
          "name": "stdout",
          "text": [
            "   OrderID   OrderDate Customer      Segment Region   Product  \\\n",
            "0  CA-1001  2023-01-15     Ravi     Consumer  South    Laptop   \n",
            "1  CA-1002  2023-02-20    Priya    Corporate  North   Printer   \n",
            "2  CA-1003  2023-01-25     Amit     Consumer   East  Notebook   \n",
            "3  CA-1004  2023-03-01    Anita  Home Office   West     Table   \n",
            "4  CA-1005  2023-02-05    Divya     Consumer  South     Phone   \n",
            "\n",
            "          Category  SubCategory  Quantity  UnitPrice  Discount  Profit  \\\n",
            "0       Technology    Computers         1      55000      0.10    5000   \n",
            "1       Technology  Peripherals         2      12000      0.15    1800   \n",
            "2  Office Supplies        Paper         3        200      0.05     150   \n",
            "3        Furniture       Tables         1      18000      0.20   -1500   \n",
            "4       Technology       Phones         2      20000      0.00    3000   \n",
            "\n",
            "   TotalPrice  \n",
            "0       55000  \n",
            "1       24000  \n",
            "2         600  \n",
            "3       18000  \n",
            "4       40000  \n"
          ]
        }
      ]
    },
    {
      "cell_type": "markdown",
      "source": [
        "#### 8. Drop the SubCategory column."
      ],
      "metadata": {
        "id": "u1A0PnrpxTWG"
      }
    },
    {
      "cell_type": "code",
      "source": [
        "df.drop(\"SubCategory\", axis = 1, inplace=True)\n",
        "print(df)"
      ],
      "metadata": {
        "colab": {
          "base_uri": "https://localhost:8080/"
        },
        "id": "EL3T34sx2AL7",
        "outputId": "a502fdf3-ea55-4f0d-8cec-8ad8d6c6244f"
      },
      "execution_count": 19,
      "outputs": [
        {
          "output_type": "stream",
          "name": "stdout",
          "text": [
            "   OrderID   OrderDate Customer      Segment Region   Product  \\\n",
            "0  CA-1001  2023-01-15     Ravi     Consumer  South    Laptop   \n",
            "1  CA-1002  2023-02-20    Priya    Corporate  North   Printer   \n",
            "2  CA-1003  2023-01-25     Amit     Consumer   East  Notebook   \n",
            "3  CA-1004  2023-03-01    Anita  Home Office   West     Table   \n",
            "4  CA-1005  2023-02-05    Divya     Consumer  South     Phone   \n",
            "\n",
            "          Category  Quantity  UnitPrice  Discount  Profit  TotalPrice  \n",
            "0       Technology         1      55000      0.10    5000       55000  \n",
            "1       Technology         2      12000      0.15    1800       24000  \n",
            "2  Office Supplies         3        200      0.05     150         600  \n",
            "3        Furniture         1      18000      0.20   -1500       18000  \n",
            "4       Technology         2      20000      0.00    3000       40000  \n"
          ]
        }
      ]
    },
    {
      "cell_type": "markdown",
      "source": [
        "#### 9. Fill nulls in Discount with 0.10."
      ],
      "metadata": {
        "id": "vS7tHCIaxgeU"
      }
    },
    {
      "cell_type": "code",
      "source": [
        "df[\"Discount\"] = df[\"Discount\"].fillna(0.10)\n",
        "print(df)"
      ],
      "metadata": {
        "colab": {
          "base_uri": "https://localhost:8080/"
        },
        "id": "A0TS4tai2MKV",
        "outputId": "3a3d72cc-ec58-454f-d8ee-b2e50fd7d2be"
      },
      "execution_count": 21,
      "outputs": [
        {
          "output_type": "stream",
          "name": "stdout",
          "text": [
            "   OrderID   OrderDate Customer      Segment Region   Product  \\\n",
            "0  CA-1001  2023-01-15     Ravi     Consumer  South    Laptop   \n",
            "1  CA-1002  2023-02-20    Priya    Corporate  North   Printer   \n",
            "2  CA-1003  2023-01-25     Amit     Consumer   East  Notebook   \n",
            "3  CA-1004  2023-03-01    Anita  Home Office   West     Table   \n",
            "4  CA-1005  2023-02-05    Divya     Consumer  South     Phone   \n",
            "\n",
            "          Category  Quantity  UnitPrice  Discount  Profit  TotalPrice  \n",
            "0       Technology         1      55000      0.10    5000       55000  \n",
            "1       Technology         2      12000      0.15    1800       24000  \n",
            "2  Office Supplies         3        200      0.05     150         600  \n",
            "3        Furniture         1      18000      0.20   -1500       18000  \n",
            "4       Technology         2      20000      0.00    3000       40000  \n"
          ]
        }
      ]
    },
    {
      "cell_type": "markdown",
      "source": [
        "#### 10. Apply a function to categorize orders:"
      ],
      "metadata": {
        "id": "kirkmMRvxj8k"
      }
    },
    {
      "cell_type": "code",
      "source": [
        "def classify(row):\n",
        "  if row['Profit'] > 4000:\n",
        "    return 'High'\n",
        "  elif row['Profit'] > 0:\n",
        "    return 'Medium'\n",
        "  else:\n",
        "    return 'Low'\n",
        "\n",
        "df[\"OrderClass\"] = df.apply(classify, axis = 1)\n",
        "print(df)"
      ],
      "metadata": {
        "colab": {
          "base_uri": "https://localhost:8080/"
        },
        "id": "Yg8cBaPDxLwl",
        "outputId": "9deb0498-1bd5-41ae-a8a9-eeadc3b16346"
      },
      "execution_count": 23,
      "outputs": [
        {
          "output_type": "stream",
          "name": "stdout",
          "text": [
            "   OrderID   OrderDate Customer      Segment Region   Product  \\\n",
            "0  CA-1001  2023-01-15     Ravi     Consumer  South    Laptop   \n",
            "1  CA-1002  2023-02-20    Priya    Corporate  North   Printer   \n",
            "2  CA-1003  2023-01-25     Amit     Consumer   East  Notebook   \n",
            "3  CA-1004  2023-03-01    Anita  Home Office   West     Table   \n",
            "4  CA-1005  2023-02-05    Divya     Consumer  South     Phone   \n",
            "\n",
            "          Category  Quantity  UnitPrice  Discount  Profit  TotalPrice  \\\n",
            "0       Technology         1      55000      0.10    5000       55000   \n",
            "1       Technology         2      12000      0.15    1800       24000   \n",
            "2  Office Supplies         3        200      0.05     150         600   \n",
            "3        Furniture         1      18000      0.20   -1500       18000   \n",
            "4       Technology         2      20000      0.00    3000       40000   \n",
            "\n",
            "  OrderClass  \n",
            "0       High  \n",
            "1     Medium  \n",
            "2     Medium  \n",
            "3        Low  \n",
            "4     Medium  \n"
          ]
        }
      ]
    },
    {
      "cell_type": "markdown",
      "source": [
        "## PART 2: PySpark DataFrame Operations"
      ],
      "metadata": {
        "id": "oee6EWuD4Ozs"
      }
    },
    {
      "cell_type": "markdown",
      "source": [
        "#### 1. Load the same CSV using PySpark."
      ],
      "metadata": {
        "id": "nuxjXzyz4Rw3"
      }
    },
    {
      "cell_type": "code",
      "source": [
        "from pyspark.sql import SparkSession\n",
        "from pyspark.sql.functions import col, when, year, month\n",
        "\n",
        "spark = SparkSession.builder.appName(\"RetailSales\").getOrCreate()\n",
        "df_spark = spark.read.csv(\"superstore.csv\", header=True, inferSchema=True)"
      ],
      "metadata": {
        "id": "vGxyxCxV5lJf"
      },
      "execution_count": 24,
      "outputs": []
    },
    {
      "cell_type": "markdown",
      "source": [
        "####2. Show schema and first 5 rows."
      ],
      "metadata": {
        "id": "1pFxSQNi4Ubp"
      }
    },
    {
      "cell_type": "code",
      "source": [
        "df_spark.printSchema()\n",
        "df_spark.show(5)"
      ],
      "metadata": {
        "colab": {
          "base_uri": "https://localhost:8080/"
        },
        "id": "QCeDUP3A5vsT",
        "outputId": "abfaa0d0-f92c-43e2-edba-cc11de6d5c6a"
      },
      "execution_count": 25,
      "outputs": [
        {
          "output_type": "stream",
          "name": "stdout",
          "text": [
            "root\n",
            " |-- OrderID: string (nullable = true)\n",
            " |-- OrderDate: date (nullable = true)\n",
            " |-- Customer: string (nullable = true)\n",
            " |-- Segment: string (nullable = true)\n",
            " |-- Region: string (nullable = true)\n",
            " |-- Product: string (nullable = true)\n",
            " |-- Category: string (nullable = true)\n",
            " |-- SubCategory: string (nullable = true)\n",
            " |-- Quantity: integer (nullable = true)\n",
            " |-- UnitPrice: integer (nullable = true)\n",
            " |-- Discount: double (nullable = true)\n",
            " |-- Profit: integer (nullable = true)\n",
            "\n",
            "+-------+----------+--------+-----------+------+--------+---------------+-----------+--------+---------+--------+------+\n",
            "|OrderID| OrderDate|Customer|    Segment|Region| Product|       Category|SubCategory|Quantity|UnitPrice|Discount|Profit|\n",
            "+-------+----------+--------+-----------+------+--------+---------------+-----------+--------+---------+--------+------+\n",
            "|CA-1001|2023-01-15|    Ravi|   Consumer| South|  Laptop|     Technology|  Computers|       1|    55000|     0.1|  5000|\n",
            "|CA-1002|2023-02-20|   Priya|  Corporate| North| Printer|     Technology|Peripherals|       2|    12000|    0.15|  1800|\n",
            "|CA-1003|2023-01-25|    Amit|   Consumer|  East|Notebook|Office Supplies|      Paper|       3|      200|    0.05|   150|\n",
            "|CA-1004|2023-03-01|   Anita|Home Office|  West|   Table|      Furniture|     Tables|       1|    18000|     0.2| -1500|\n",
            "|CA-1005|2023-02-05|   Divya|   Consumer| South|   Phone|     Technology|     Phones|       2|    20000|     0.0|  3000|\n",
            "+-------+----------+--------+-----------+------+--------+---------------+-----------+--------+---------+--------+------+\n",
            "\n"
          ]
        }
      ]
    },
    {
      "cell_type": "markdown",
      "source": [
        "####3. Select columns, Rename Customer → Client ."
      ],
      "metadata": {
        "id": "k8YYDME-4VBx"
      }
    },
    {
      "cell_type": "code",
      "source": [
        "df_spark.select(col(\"Customer\").alias(\"Client\"), \"Product\", \"Profit\").show()"
      ],
      "metadata": {
        "colab": {
          "base_uri": "https://localhost:8080/"
        },
        "id": "5icwMy7J5ynC",
        "outputId": "5d67ae33-b1c4-4efa-8ed3-fd45ab75c10c"
      },
      "execution_count": 26,
      "outputs": [
        {
          "output_type": "stream",
          "name": "stdout",
          "text": [
            "+------+--------+------+\n",
            "|Client| Product|Profit|\n",
            "+------+--------+------+\n",
            "|  Ravi|  Laptop|  5000|\n",
            "| Priya| Printer|  1800|\n",
            "|  Amit|Notebook|   150|\n",
            "| Anita|   Table| -1500|\n",
            "| Divya|   Phone|  3000|\n",
            "+------+--------+------+\n",
            "\n"
          ]
        }
      ]
    },
    {
      "cell_type": "markdown",
      "source": [
        "####4. Filter Segment = 'Consumer' and Profit < 1000 ."
      ],
      "metadata": {
        "id": "DH7HGlBV4Vqg"
      }
    },
    {
      "cell_type": "code",
      "source": [
        "df_spark.filter((col(\"Segment\") == \"Consumer\") & (col(\"Profit\") < 1000)).show()"
      ],
      "metadata": {
        "colab": {
          "base_uri": "https://localhost:8080/"
        },
        "id": "Xlm0jI6Q52lT",
        "outputId": "e9a9d2a8-85aa-43fa-c035-1a3c53a90b90"
      },
      "execution_count": 27,
      "outputs": [
        {
          "output_type": "stream",
          "name": "stdout",
          "text": [
            "+-------+----------+--------+--------+------+--------+---------------+-----------+--------+---------+--------+------+\n",
            "|OrderID| OrderDate|Customer| Segment|Region| Product|       Category|SubCategory|Quantity|UnitPrice|Discount|Profit|\n",
            "+-------+----------+--------+--------+------+--------+---------------+-----------+--------+---------+--------+------+\n",
            "|CA-1003|2023-01-25|    Amit|Consumer|  East|Notebook|Office Supplies|      Paper|       3|      200|    0.05|   150|\n",
            "+-------+----------+--------+--------+------+--------+---------------+-----------+--------+---------+--------+------+\n",
            "\n"
          ]
        }
      ]
    },
    {
      "cell_type": "markdown",
      "source": [
        "####5. GroupBy Region and show average profit."
      ],
      "metadata": {
        "id": "hQ26oAzF4V8S"
      }
    },
    {
      "cell_type": "code",
      "source": [
        "df_spark.groupBy(\"Region\").avg(\"Profit\").show()"
      ],
      "metadata": {
        "colab": {
          "base_uri": "https://localhost:8080/"
        },
        "id": "Ely9MZtk54IK",
        "outputId": "c490304b-a552-4149-fc6f-c4c6a11fd60b"
      },
      "execution_count": 28,
      "outputs": [
        {
          "output_type": "stream",
          "name": "stdout",
          "text": [
            "+------+-----------+\n",
            "|Region|avg(Profit)|\n",
            "+------+-----------+\n",
            "| South|     4000.0|\n",
            "|  East|      150.0|\n",
            "|  West|    -1500.0|\n",
            "| North|     1800.0|\n",
            "+------+-----------+\n",
            "\n"
          ]
        }
      ]
    },
    {
      "cell_type": "markdown",
      "source": [
        "####6. Use withColumn to create TotalPrice = Quantity * UnitPrice ."
      ],
      "metadata": {
        "id": "qHCTA5kA4XVC"
      }
    },
    {
      "cell_type": "code",
      "source": [
        "df_spark = df_spark.withColumn(\"TotalPrice\", col(\"Quantity\") * col(\"UnitPrice\"))\n",
        "df_spark.show()"
      ],
      "metadata": {
        "colab": {
          "base_uri": "https://localhost:8080/"
        },
        "id": "UT4on8yE56OQ",
        "outputId": "ee00c189-789c-42c7-e327-06c4c9248969"
      },
      "execution_count": 30,
      "outputs": [
        {
          "output_type": "stream",
          "name": "stdout",
          "text": [
            "+-------+----------+--------+-----------+------+--------+---------------+-----------+--------+---------+--------+------+----------+\n",
            "|OrderID| OrderDate|Customer|    Segment|Region| Product|       Category|SubCategory|Quantity|UnitPrice|Discount|Profit|TotalPrice|\n",
            "+-------+----------+--------+-----------+------+--------+---------------+-----------+--------+---------+--------+------+----------+\n",
            "|CA-1001|2023-01-15|    Ravi|   Consumer| South|  Laptop|     Technology|  Computers|       1|    55000|     0.1|  5000|     55000|\n",
            "|CA-1002|2023-02-20|   Priya|  Corporate| North| Printer|     Technology|Peripherals|       2|    12000|    0.15|  1800|     24000|\n",
            "|CA-1003|2023-01-25|    Amit|   Consumer|  East|Notebook|Office Supplies|      Paper|       3|      200|    0.05|   150|       600|\n",
            "|CA-1004|2023-03-01|   Anita|Home Office|  West|   Table|      Furniture|     Tables|       1|    18000|     0.2| -1500|     18000|\n",
            "|CA-1005|2023-02-05|   Divya|   Consumer| South|   Phone|     Technology|     Phones|       2|    20000|     0.0|  3000|     40000|\n",
            "+-------+----------+--------+-----------+------+--------+---------------+-----------+--------+---------+--------+------+----------+\n",
            "\n"
          ]
        }
      ]
    },
    {
      "cell_type": "markdown",
      "source": [
        "####7. Use when().otherwise() to classify Profit as:\n",
        "\n",
        "'Profit' > 2000 → 'High'\n",
        "\n",
        "'Profit' <= 0 → 'Loss'\n",
        "\n",
        "else 'Medium'"
      ],
      "metadata": {
        "id": "io-0ay8p4aJw"
      }
    },
    {
      "cell_type": "code",
      "source": [
        "df_spark = df_spark.withColumn(\n",
        "    \"ProfitClass\", when(col(\"Profit\") > 2000, \"High\")\n",
        "    .when(col(\"Profit\") <= 0, \"Loss\")\n",
        "    .otherwise(\"Medium\")\n",
        ")\n",
        "df_spark.show()"
      ],
      "metadata": {
        "colab": {
          "base_uri": "https://localhost:8080/"
        },
        "id": "ESO1gylZ6shB",
        "outputId": "9420483a-f1a2-4119-d047-13fd1d2d4044"
      },
      "execution_count": 31,
      "outputs": [
        {
          "output_type": "stream",
          "name": "stdout",
          "text": [
            "+-------+----------+--------+-----------+------+--------+---------------+-----------+--------+---------+--------+------+----------+-----------+\n",
            "|OrderID| OrderDate|Customer|    Segment|Region| Product|       Category|SubCategory|Quantity|UnitPrice|Discount|Profit|TotalPrice|ProfitClass|\n",
            "+-------+----------+--------+-----------+------+--------+---------------+-----------+--------+---------+--------+------+----------+-----------+\n",
            "|CA-1001|2023-01-15|    Ravi|   Consumer| South|  Laptop|     Technology|  Computers|       1|    55000|     0.1|  5000|     55000|       High|\n",
            "|CA-1002|2023-02-20|   Priya|  Corporate| North| Printer|     Technology|Peripherals|       2|    12000|    0.15|  1800|     24000|     Medium|\n",
            "|CA-1003|2023-01-25|    Amit|   Consumer|  East|Notebook|Office Supplies|      Paper|       3|      200|    0.05|   150|       600|     Medium|\n",
            "|CA-1004|2023-03-01|   Anita|Home Office|  West|   Table|      Furniture|     Tables|       1|    18000|     0.2| -1500|     18000|       Loss|\n",
            "|CA-1005|2023-02-05|   Divya|   Consumer| South|   Phone|     Technology|     Phones|       2|    20000|     0.0|  3000|     40000|       High|\n",
            "+-------+----------+--------+-----------+------+--------+---------------+-----------+--------+---------+--------+------+----------+-----------+\n",
            "\n"
          ]
        }
      ]
    },
    {
      "cell_type": "markdown",
      "source": [
        "####8. Use drop() to remove SubCategory ."
      ],
      "metadata": {
        "id": "QDGBZyar4ani"
      }
    },
    {
      "cell_type": "code",
      "source": [
        "df_spark = df_spark.drop(\"SubCategory\")\n",
        "df_spark.show()"
      ],
      "metadata": {
        "colab": {
          "base_uri": "https://localhost:8080/"
        },
        "id": "No67huBu7ia4",
        "outputId": "2bb4545d-f1b3-49e1-beb1-818568b491cf"
      },
      "execution_count": 33,
      "outputs": [
        {
          "output_type": "stream",
          "name": "stdout",
          "text": [
            "+-------+----------+--------+-----------+------+--------+---------------+--------+---------+--------+------+----------+-----------+\n",
            "|OrderID| OrderDate|Customer|    Segment|Region| Product|       Category|Quantity|UnitPrice|Discount|Profit|TotalPrice|ProfitClass|\n",
            "+-------+----------+--------+-----------+------+--------+---------------+--------+---------+--------+------+----------+-----------+\n",
            "|CA-1001|2023-01-15|    Ravi|   Consumer| South|  Laptop|     Technology|       1|    55000|     0.1|  5000|     55000|       High|\n",
            "|CA-1002|2023-02-20|   Priya|  Corporate| North| Printer|     Technology|       2|    12000|    0.15|  1800|     24000|     Medium|\n",
            "|CA-1003|2023-01-25|    Amit|   Consumer|  East|Notebook|Office Supplies|       3|      200|    0.05|   150|       600|     Medium|\n",
            "|CA-1004|2023-03-01|   Anita|Home Office|  West|   Table|      Furniture|       1|    18000|     0.2| -1500|     18000|       Loss|\n",
            "|CA-1005|2023-02-05|   Divya|   Consumer| South|   Phone|     Technology|       2|    20000|     0.0|  3000|     40000|       High|\n",
            "+-------+----------+--------+-----------+------+--------+---------------+--------+---------+--------+------+----------+-----------+\n",
            "\n"
          ]
        }
      ]
    },
    {
      "cell_type": "markdown",
      "source": [
        "####9. Handle nulls in Discount using fillna(0.10) ."
      ],
      "metadata": {
        "id": "e0CVgDTW4bFH"
      }
    },
    {
      "cell_type": "code",
      "source": [
        "df_spark = df_spark.fillna({\"Discount\": 0.10})\n",
        "df_spark.show()"
      ],
      "metadata": {
        "colab": {
          "base_uri": "https://localhost:8080/"
        },
        "id": "YY-XiEVG7n0F",
        "outputId": "c5ab16fd-4e27-431b-a9f4-d6828e993c7d"
      },
      "execution_count": 35,
      "outputs": [
        {
          "output_type": "stream",
          "name": "stdout",
          "text": [
            "+-------+----------+--------+-----------+------+--------+---------------+--------+---------+--------+------+----------+-----------+\n",
            "|OrderID| OrderDate|Customer|    Segment|Region| Product|       Category|Quantity|UnitPrice|Discount|Profit|TotalPrice|ProfitClass|\n",
            "+-------+----------+--------+-----------+------+--------+---------------+--------+---------+--------+------+----------+-----------+\n",
            "|CA-1001|2023-01-15|    Ravi|   Consumer| South|  Laptop|     Technology|       1|    55000|     0.1|  5000|     55000|       High|\n",
            "|CA-1002|2023-02-20|   Priya|  Corporate| North| Printer|     Technology|       2|    12000|    0.15|  1800|     24000|     Medium|\n",
            "|CA-1003|2023-01-25|    Amit|   Consumer|  East|Notebook|Office Supplies|       3|      200|    0.05|   150|       600|     Medium|\n",
            "|CA-1004|2023-03-01|   Anita|Home Office|  West|   Table|      Furniture|       1|    18000|     0.2| -1500|     18000|       Loss|\n",
            "|CA-1005|2023-02-05|   Divya|   Consumer| South|   Phone|     Technology|       2|    20000|     0.0|  3000|     40000|       High|\n",
            "+-------+----------+--------+-----------+------+--------+---------------+--------+---------+--------+------+----------+-----------+\n",
            "\n"
          ]
        }
      ]
    },
    {
      "cell_type": "markdown",
      "source": [
        "####10. Convert OrderDate to date type and extract year , month ."
      ],
      "metadata": {
        "id": "tJkobzHx4bi4"
      }
    },
    {
      "cell_type": "code",
      "source": [
        "from pyspark.sql.functions import to_date\n",
        "\n",
        "df_spark = df_spark.withColumn(\"OrderDate\", to_date(\"OrderDate\"))\n",
        "df_spark = df_spark.withColumn(\"Year\", year(\"OrderDate\"))\n",
        "df_spark = df_spark.withColumn(\"Month\", month(\"OrderDate\"))\n",
        "df_spark.select(\"OrderID\", \"OrderDate\", \"Year\", \"Month\").show()"
      ],
      "metadata": {
        "colab": {
          "base_uri": "https://localhost:8080/"
        },
        "id": "N-_QD0OI7ycJ",
        "outputId": "993d48a9-efc4-475a-9775-65c3df59aa0f"
      },
      "execution_count": 36,
      "outputs": [
        {
          "output_type": "stream",
          "name": "stdout",
          "text": [
            "+-------+----------+----+-----+\n",
            "|OrderID| OrderDate|Year|Month|\n",
            "+-------+----------+----+-----+\n",
            "|CA-1001|2023-01-15|2023|    1|\n",
            "|CA-1002|2023-02-20|2023|    2|\n",
            "|CA-1003|2023-01-25|2023|    1|\n",
            "|CA-1004|2023-03-01|2023|    3|\n",
            "|CA-1005|2023-02-05|2023|    2|\n",
            "+-------+----------+----+-----+\n",
            "\n"
          ]
        }
      ]
    },
    {
      "cell_type": "markdown",
      "source": [
        "##PART 3: Dask DataFrame Operations (Pandas Alternative)"
      ],
      "metadata": {
        "id": "uZ8LKVd95ELm"
      }
    },
    {
      "cell_type": "markdown",
      "source": [
        "####1. Install Dask:"
      ],
      "metadata": {
        "id": "3YGz195I5Jy_"
      }
    },
    {
      "cell_type": "code",
      "source": [
        "!pip install dask"
      ],
      "metadata": {
        "colab": {
          "base_uri": "https://localhost:8080/"
        },
        "id": "aAI6zT_h73-v",
        "outputId": "9e0cad3a-abf1-4df9-8621-c68ae6819bfe"
      },
      "execution_count": 37,
      "outputs": [
        {
          "output_type": "stream",
          "name": "stdout",
          "text": [
            "Requirement already satisfied: dask in /usr/local/lib/python3.11/dist-packages (2025.5.0)\n",
            "Requirement already satisfied: click>=8.1 in /usr/local/lib/python3.11/dist-packages (from dask) (8.2.1)\n",
            "Requirement already satisfied: cloudpickle>=3.0.0 in /usr/local/lib/python3.11/dist-packages (from dask) (3.1.1)\n",
            "Requirement already satisfied: fsspec>=2021.09.0 in /usr/local/lib/python3.11/dist-packages (from dask) (2025.3.0)\n",
            "Requirement already satisfied: packaging>=20.0 in /usr/local/lib/python3.11/dist-packages (from dask) (25.0)\n",
            "Requirement already satisfied: partd>=1.4.0 in /usr/local/lib/python3.11/dist-packages (from dask) (1.4.2)\n",
            "Requirement already satisfied: pyyaml>=5.3.1 in /usr/local/lib/python3.11/dist-packages (from dask) (6.0.2)\n",
            "Requirement already satisfied: toolz>=0.10.0 in /usr/local/lib/python3.11/dist-packages (from dask) (0.12.1)\n",
            "Requirement already satisfied: importlib_metadata>=4.13.0 in /usr/local/lib/python3.11/dist-packages (from dask) (8.7.0)\n",
            "Requirement already satisfied: zipp>=3.20 in /usr/local/lib/python3.11/dist-packages (from importlib_metadata>=4.13.0->dask) (3.23.0)\n",
            "Requirement already satisfied: locket in /usr/local/lib/python3.11/dist-packages (from partd>=1.4.0->dask) (1.0.0)\n"
          ]
        }
      ]
    },
    {
      "cell_type": "markdown",
      "source": [
        "####2. Load the same superstore.csv :"
      ],
      "metadata": {
        "id": "iX_kOA495Job"
      }
    },
    {
      "cell_type": "code",
      "source": [
        "import dask.dataframe as dd\n",
        "df_dask = dd.read_csv('superstore.csv')"
      ],
      "metadata": {
        "id": "-YOUGkkN8Hjf"
      },
      "execution_count": 38,
      "outputs": []
    },
    {
      "cell_type": "markdown",
      "source": [
        "####3. Do the following:"
      ],
      "metadata": {
        "id": "a3uNFLoO5JJn"
      }
    },
    {
      "cell_type": "code",
      "source": [
        "# Compute average discount by category.\n",
        "print(df_dask.groupby(\"Category\")[\"Discount\"].mean().compute())\n",
        "\n",
        "# Filter orders with more than 1 quantity and high profit.\n",
        "filtered = df_dask[(df_dask[\"Quantity\"] > 1) & (df_dask[\"Profit\"] > 2000)]\n",
        "\n",
        "# Save filtered data to new CSV.\n",
        "filtered.to_csv(\"filtered_high_profit_orders.csv\", single_file=True)"
      ],
      "metadata": {
        "colab": {
          "base_uri": "https://localhost:8080/"
        },
        "id": "0P3npbfZ8TCF",
        "outputId": "f4a53f6b-ba19-49e6-d459-aa7d3a04e634"
      },
      "execution_count": 39,
      "outputs": [
        {
          "output_type": "stream",
          "name": "stdout",
          "text": [
            "Category\n",
            "Furniture          0.200000\n",
            "Office Supplies    0.050000\n",
            "Technology         0.083333\n",
            "Name: Discount, dtype: float64\n"
          ]
        },
        {
          "output_type": "execute_result",
          "data": {
            "text/plain": [
              "['/content/filtered_high_profit_orders.csv']"
            ]
          },
          "metadata": {},
          "execution_count": 39
        }
      ]
    },
    {
      "cell_type": "code",
      "source": [
        "# To download the \"filtered_high_profit_orders.csv\" csv file\n",
        "from google.colab import files\n",
        "files.download(\"filtered_high_profit_orders.csv\")"
      ],
      "metadata": {
        "colab": {
          "base_uri": "https://localhost:8080/",
          "height": 17
        },
        "id": "hiwgmnzp85C-",
        "outputId": "2475ed79-509f-49eb-ee6d-430d473fe0ad"
      },
      "execution_count": 40,
      "outputs": [
        {
          "output_type": "display_data",
          "data": {
            "text/plain": [
              "<IPython.core.display.Javascript object>"
            ],
            "application/javascript": [
              "\n",
              "    async function download(id, filename, size) {\n",
              "      if (!google.colab.kernel.accessAllowed) {\n",
              "        return;\n",
              "      }\n",
              "      const div = document.createElement('div');\n",
              "      const label = document.createElement('label');\n",
              "      label.textContent = `Downloading \"${filename}\": `;\n",
              "      div.appendChild(label);\n",
              "      const progress = document.createElement('progress');\n",
              "      progress.max = size;\n",
              "      div.appendChild(progress);\n",
              "      document.body.appendChild(div);\n",
              "\n",
              "      const buffers = [];\n",
              "      let downloaded = 0;\n",
              "\n",
              "      const channel = await google.colab.kernel.comms.open(id);\n",
              "      // Send a message to notify the kernel that we're ready.\n",
              "      channel.send({})\n",
              "\n",
              "      for await (const message of channel.messages) {\n",
              "        // Send a message to notify the kernel that we're ready.\n",
              "        channel.send({})\n",
              "        if (message.buffers) {\n",
              "          for (const buffer of message.buffers) {\n",
              "            buffers.push(buffer);\n",
              "            downloaded += buffer.byteLength;\n",
              "            progress.value = downloaded;\n",
              "          }\n",
              "        }\n",
              "      }\n",
              "      const blob = new Blob(buffers, {type: 'application/binary'});\n",
              "      const a = document.createElement('a');\n",
              "      a.href = window.URL.createObjectURL(blob);\n",
              "      a.download = filename;\n",
              "      div.appendChild(a);\n",
              "      a.click();\n",
              "      div.remove();\n",
              "    }\n",
              "  "
            ]
          },
          "metadata": {}
        },
        {
          "output_type": "display_data",
          "data": {
            "text/plain": [
              "<IPython.core.display.Javascript object>"
            ],
            "application/javascript": [
              "download(\"download_b29c9935-d29c-449e-923a-b83803eeac94\", \"filtered_high_profit_orders.csv\", 190)"
            ]
          },
          "metadata": {}
        }
      ]
    },
    {
      "cell_type": "markdown",
      "source": [
        "## PART 4: JSON Handling (Complex Nested)"
      ],
      "metadata": {
        "id": "34kTgQEE5VIN"
      }
    },
    {
      "cell_type": "markdown",
      "source": [
        "####1. Create a nested JSON file:"
      ],
      "metadata": {
        "id": "ehXaMZVV5VAM"
      }
    },
    {
      "cell_type": "code",
      "source": [
        "# Step 1: Define the nested JSON data\n",
        "import json\n",
        "\n",
        "orders = [\n",
        "    {\n",
        "        \"OrderID\": \"CA-1001\",\n",
        "        \"Customer\": {\"Name\": \"Ravi\", \"Segment\": \"Consumer\"},\n",
        "        \"Details\": {\"Region\": \"South\", \"Profit\": 5000}\n",
        "    },\n",
        "    {\n",
        "        \"OrderID\": \"CA-1002\",\n",
        "        \"Customer\": {\"Name\": \"Priya\", \"Segment\": \"Corporate\"},\n",
        "        \"Details\": {\"Region\": \"North\", \"Profit\": 1800}\n",
        "    }\n",
        "]"
      ],
      "metadata": {
        "id": "vzPm_q-j8jO_"
      },
      "execution_count": 41,
      "outputs": []
    },
    {
      "cell_type": "code",
      "source": [
        "# Step 2: Write it to a JSON file\n",
        "with open(\"orders.json\", \"w\") as f:\n",
        "    json.dump(orders, f, indent=4)"
      ],
      "metadata": {
        "id": "dY06_9dp9tjo"
      },
      "execution_count": 42,
      "outputs": []
    },
    {
      "cell_type": "code",
      "source": [
        "# Step 3: Download the JSON file to local computer\n",
        "from google.colab import files\n",
        "files.download(\"orders.json\")"
      ],
      "metadata": {
        "colab": {
          "base_uri": "https://localhost:8080/",
          "height": 17
        },
        "id": "lT5zfJkr90lf",
        "outputId": "f8cbafe2-d683-4b71-d75f-b80f7b0f5040"
      },
      "execution_count": 43,
      "outputs": [
        {
          "output_type": "display_data",
          "data": {
            "text/plain": [
              "<IPython.core.display.Javascript object>"
            ],
            "application/javascript": [
              "\n",
              "    async function download(id, filename, size) {\n",
              "      if (!google.colab.kernel.accessAllowed) {\n",
              "        return;\n",
              "      }\n",
              "      const div = document.createElement('div');\n",
              "      const label = document.createElement('label');\n",
              "      label.textContent = `Downloading \"${filename}\": `;\n",
              "      div.appendChild(label);\n",
              "      const progress = document.createElement('progress');\n",
              "      progress.max = size;\n",
              "      div.appendChild(progress);\n",
              "      document.body.appendChild(div);\n",
              "\n",
              "      const buffers = [];\n",
              "      let downloaded = 0;\n",
              "\n",
              "      const channel = await google.colab.kernel.comms.open(id);\n",
              "      // Send a message to notify the kernel that we're ready.\n",
              "      channel.send({})\n",
              "\n",
              "      for await (const message of channel.messages) {\n",
              "        // Send a message to notify the kernel that we're ready.\n",
              "        channel.send({})\n",
              "        if (message.buffers) {\n",
              "          for (const buffer of message.buffers) {\n",
              "            buffers.push(buffer);\n",
              "            downloaded += buffer.byteLength;\n",
              "            progress.value = downloaded;\n",
              "          }\n",
              "        }\n",
              "      }\n",
              "      const blob = new Blob(buffers, {type: 'application/binary'});\n",
              "      const a = document.createElement('a');\n",
              "      a.href = window.URL.createObjectURL(blob);\n",
              "      a.download = filename;\n",
              "      div.appendChild(a);\n",
              "      a.click();\n",
              "      div.remove();\n",
              "    }\n",
              "  "
            ]
          },
          "metadata": {}
        },
        {
          "output_type": "display_data",
          "data": {
            "text/plain": [
              "<IPython.core.display.Javascript object>"
            ],
            "application/javascript": [
              "download(\"download_ea802205-6825-4f4a-b892-8e00563e00bb\", \"orders.json\", 458)"
            ]
          },
          "metadata": {}
        }
      ]
    },
    {
      "cell_type": "markdown",
      "source": [
        "####2. Load it using PySpark:"
      ],
      "metadata": {
        "id": "2sRorWa15UrK"
      }
    },
    {
      "cell_type": "code",
      "source": [
        "df_json = spark.read.json('orders.json', multiLine=True)\n",
        "df_json.printSchema()\n",
        "df_json.select(\"OrderID\", \"Customer.Name\", \"Details.Profit\").show"
      ],
      "metadata": {
        "colab": {
          "base_uri": "https://localhost:8080/",
          "height": 349
        },
        "id": "kXZ98kIp8jq4",
        "outputId": "d07ae6df-37cf-4292-f8e9-fc10dce22589"
      },
      "execution_count": 44,
      "outputs": [
        {
          "output_type": "stream",
          "name": "stdout",
          "text": [
            "root\n",
            " |-- Customer: struct (nullable = true)\n",
            " |    |-- Name: string (nullable = true)\n",
            " |    |-- Segment: string (nullable = true)\n",
            " |-- Details: struct (nullable = true)\n",
            " |    |-- Profit: long (nullable = true)\n",
            " |    |-- Region: string (nullable = true)\n",
            " |-- OrderID: string (nullable = true)\n",
            "\n"
          ]
        },
        {
          "output_type": "execute_result",
          "data": {
            "text/plain": [
              "<bound method DataFrame.show of DataFrame[OrderID: string, Name: string, Profit: bigint]>"
            ],
            "text/html": [
              "<div style=\"max-width:800px; border: 1px solid var(--colab-border-color);\"><style>\n",
              "      pre.function-repr-contents {\n",
              "        overflow-x: auto;\n",
              "        padding: 8px 12px;\n",
              "        max-height: 500px;\n",
              "      }\n",
              "\n",
              "      pre.function-repr-contents.function-repr-contents-collapsed {\n",
              "        cursor: pointer;\n",
              "        max-height: 100px;\n",
              "      }\n",
              "    </style>\n",
              "    <pre style=\"white-space: initial; background:\n",
              "         var(--colab-secondary-surface-color); padding: 8px 12px;\n",
              "         border-bottom: 1px solid var(--colab-border-color);\"><b>pyspark.sql.dataframe.DataFrame.show</b><br/>def show(n: int=20, truncate: Union[bool, int]=True, vertical: bool=False) -&gt; None</pre><pre class=\"function-repr-contents function-repr-contents-collapsed\" style=\"\"><a class=\"filepath\" style=\"display:none\" href=\"#\">/usr/local/lib/python3.11/dist-packages/pyspark/sql/dataframe.py</a>Prints the first ``n`` rows to the console.\n",
              "\n",
              ".. versionadded:: 1.3.0\n",
              "\n",
              ".. versionchanged:: 3.4.0\n",
              "    Supports Spark Connect.\n",
              "\n",
              "Parameters\n",
              "----------\n",
              "n : int, optional\n",
              "    Number of rows to show.\n",
              "truncate : bool or int, optional\n",
              "    If set to ``True``, truncate strings longer than 20 chars by default.\n",
              "    If set to a number greater than one, truncates long strings to length ``truncate``\n",
              "    and align cells right.\n",
              "vertical : bool, optional\n",
              "    If set to ``True``, print output rows vertically (one line\n",
              "    per column value).\n",
              "\n",
              "Examples\n",
              "--------\n",
              "&gt;&gt;&gt; df = spark.createDataFrame([\n",
              "...     (14, &quot;Tom&quot;), (23, &quot;Alice&quot;), (16, &quot;Bob&quot;)], [&quot;age&quot;, &quot;name&quot;])\n",
              "\n",
              "Show only top 2 rows.\n",
              "\n",
              "&gt;&gt;&gt; df.show(2)\n",
              "+---+-----+\n",
              "|age| name|\n",
              "+---+-----+\n",
              "| 14|  Tom|\n",
              "| 23|Alice|\n",
              "+---+-----+\n",
              "only showing top 2 rows\n",
              "\n",
              "Show :class:`DataFrame` where the maximum number of characters is 3.\n",
              "\n",
              "&gt;&gt;&gt; df.show(truncate=3)\n",
              "+---+----+\n",
              "|age|name|\n",
              "+---+----+\n",
              "| 14| Tom|\n",
              "| 23| Ali|\n",
              "| 16| Bob|\n",
              "+---+----+\n",
              "\n",
              "Show :class:`DataFrame` vertically.\n",
              "\n",
              "&gt;&gt;&gt; df.show(vertical=True)\n",
              "-RECORD 0-----\n",
              "age  | 14\n",
              "name | Tom\n",
              "-RECORD 1-----\n",
              "age  | 23\n",
              "name | Alice\n",
              "-RECORD 2-----\n",
              "age  | 16\n",
              "name | Bob</pre>\n",
              "      <script>\n",
              "      if (google.colab.kernel.accessAllowed && google.colab.files && google.colab.files.view) {\n",
              "        for (const element of document.querySelectorAll('.filepath')) {\n",
              "          element.style.display = 'block'\n",
              "          element.onclick = (event) => {\n",
              "            event.preventDefault();\n",
              "            event.stopPropagation();\n",
              "            google.colab.files.view(element.textContent, 885);\n",
              "          };\n",
              "        }\n",
              "      }\n",
              "      for (const element of document.querySelectorAll('.function-repr-contents')) {\n",
              "        element.onclick = (event) => {\n",
              "          event.preventDefault();\n",
              "          event.stopPropagation();\n",
              "          element.classList.toggle('function-repr-contents-collapsed');\n",
              "        };\n",
              "      }\n",
              "      </script>\n",
              "      </div>"
            ]
          },
          "metadata": {},
          "execution_count": 44
        }
      ]
    }
  ]
}