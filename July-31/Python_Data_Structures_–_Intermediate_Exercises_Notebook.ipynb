{
  "nbformat": 4,
  "nbformat_minor": 0,
  "metadata": {
    "colab": {
      "provenance": []
    },
    "kernelspec": {
      "name": "python3",
      "display_name": "Python 3"
    },
    "language_info": {
      "name": "python"
    }
  },
  "cells": [
    {
      "cell_type": "markdown",
      "source": [
        "# Python Data Structures – Intermediate Exercises Notebook"
      ],
      "metadata": {
        "id": "-C6hbZF-CmJc"
      }
    },
    {
      "cell_type": "markdown",
      "source": [
        "## Section 1: Nested Lists & Access"
      ],
      "metadata": {
        "id": "SA3AjcZyCrkO"
      }
    },
    {
      "cell_type": "markdown",
      "source": [
        "Tasks:\n",
        "1. Print Ravi’s second mark.\n",
        "2. Calculate average mark for each student.\n",
        "3. Print the name of students who scored above 80 in all subjects.\n",
        "4. Create a new list of [name, average] ."
      ],
      "metadata": {
        "id": "GlfV_vL9DLof"
      }
    },
    {
      "cell_type": "code",
      "execution_count": 19,
      "metadata": {
        "colab": {
          "base_uri": "https://localhost:8080/"
        },
        "id": "-kLqiQeVCdwv",
        "outputId": "6dfcd423-6a2f-4bdc-a7e7-feed3aa98525"
      },
      "outputs": [
        {
          "output_type": "stream",
          "name": "stdout",
          "text": [
            "Ravi's second mark:  72\n"
          ]
        }
      ],
      "source": [
        "students = [\n",
        "    [\"Ravi\", [85, 72, 90]],\n",
        "    [\"Sneha\", [95, 88, 92]],\n",
        "    [\"Kabir\", [65, 70, 60]],\n",
        "    [\"Anita\", [75, 80, 78]]\n",
        "]\n",
        "\n",
        "# 1. Ravi's second mark\n",
        "print(\"Ravi's second mark: \", students[0][1][1])"
      ]
    },
    {
      "cell_type": "code",
      "source": [
        "# 2. Calculate average mark for each student.\n",
        "for student in students:\n",
        "    name = student[0]\n",
        "    marks = student[1]\n",
        "    average = sum(marks) / len(marks)\n",
        "    print(f\"{name}'s average mark: {average: .2f}\")"
      ],
      "metadata": {
        "colab": {
          "base_uri": "https://localhost:8080/"
        },
        "id": "9WSeeWn4FyLH",
        "outputId": "c29ac68c-806c-4894-ee73-7f011916d2c8"
      },
      "execution_count": 20,
      "outputs": [
        {
          "output_type": "stream",
          "name": "stdout",
          "text": [
            "Ravi's average mark:  82.33\n",
            "Sneha's average mark:  91.67\n",
            "Kabir's average mark:  65.00\n",
            "Anita's average mark:  77.67\n"
          ]
        }
      ]
    },
    {
      "cell_type": "code",
      "source": [
        "# 3. Print the name of students who scored above 80 in all subjects.\n",
        "for student in students:\n",
        "    name = student[0]\n",
        "    marks = student[1]\n",
        "    if all(mark > 80 for mark in marks):\n",
        "        print(f\"{name} scored above 80 in all subjects\")"
      ],
      "metadata": {
        "colab": {
          "base_uri": "https://localhost:8080/"
        },
        "id": "HrMeSXQbGMYp",
        "outputId": "b7e6fb21-bbcd-405e-c5cd-55d6d7bd633a"
      },
      "execution_count": 13,
      "outputs": [
        {
          "output_type": "stream",
          "name": "stdout",
          "text": [
            "Sneha scored above 80 in all subjects\n"
          ]
        }
      ]
    },
    {
      "cell_type": "code",
      "source": [
        "# 4. Create a new list of [name, average] .\n",
        "student_averages = []\n",
        "for student in students:\n",
        "    name = student[0]\n",
        "    marks = student[1]\n",
        "    average = sum(marks) / len(marks)\n",
        "    student_averages.append([name, average])\n",
        "print(\"List of [name, average]:\\n\", student_averages)"
      ],
      "metadata": {
        "colab": {
          "base_uri": "https://localhost:8080/"
        },
        "id": "2DUA_jxxGxGD",
        "outputId": "21df2f17-9bf6-4f48-fd98-67e07c420a84"
      },
      "execution_count": 18,
      "outputs": [
        {
          "output_type": "stream",
          "name": "stdout",
          "text": [
            "List of [name, average]:\n",
            " [['Ravi', 82.33333333333333], ['Sneha', 91.66666666666667], ['Kabir', 65.0], ['Anita', 77.66666666666667]]\n"
          ]
        }
      ]
    },
    {
      "cell_type": "markdown",
      "source": [
        "## Section 2: Dictionary of Lists"
      ],
      "metadata": {
        "id": "JzQaONcgKkq7"
      }
    },
    {
      "cell_type": "markdown",
      "source": [
        "Tasks:\n",
        "1. Create a list of dictionaries for each product:\n",
        "\n",
        "    Example:{'name': 'Mobile', 'price': 12000, 'rating': 4.5}\n",
        "\n",
        "2. Filter and print products with price > 20,000 and rating >= 4.5\n",
        "3. Sort the product list by rating (descending)"
      ],
      "metadata": {
        "id": "GS12LGBoKkbA"
      }
    },
    {
      "cell_type": "code",
      "source": [
        "data = {\n",
        "    \"products\": [\"Mobile\", \"Laptop\", \"Tablet\", \"Camera\"],\n",
        "    \"prices\": [12000, 55000, 18000, 25000],\n",
        "    \"ratings\": [4.5, 4.7, 4.0, 4.2]\n",
        "}\n",
        "\n",
        "# 1. Create a list of dictionaries for each product:\n",
        "products = []\n",
        "for i in range(len(data[\"products\"])):\n",
        "    product = {\n",
        "        \"name\": data[\"products\"][i],\n",
        "        \"price\": data[\"prices\"][i],\n",
        "        \"rating\": data[\"ratings\"][i]\n",
        "    }\n",
        "    products.append(product)\n",
        "print(\"Products Dictionaries: \\n\",products)"
      ],
      "metadata": {
        "colab": {
          "base_uri": "https://localhost:8080/"
        },
        "id": "iMFqMRdGKYOa",
        "outputId": "5bd167ea-537c-46fd-cee7-6d17f60504cf"
      },
      "execution_count": 22,
      "outputs": [
        {
          "output_type": "stream",
          "name": "stdout",
          "text": [
            "Products Dictionaries: \n",
            " [{'name': 'Mobile', 'price': 12000, 'rating': 4.5}, {'name': 'Laptop', 'price': 55000, 'rating': 4.7}, {'name': 'Tablet', 'price': 18000, 'rating': 4.0}, {'name': 'Camera', 'price': 25000, 'rating': 4.2}]\n"
          ]
        }
      ]
    },
    {
      "cell_type": "code",
      "source": [
        "# 2. Filter and print products with price > 20,000 and rating >= 4.5\n",
        "filtered_products = []\n",
        "for product in products:\n",
        "    if product[\"price\"] > 20000 and product[\"rating\"] >= 4.5:\n",
        "        filtered_products.append(product)\n",
        "print(\"Filtered Products: \\n\",filtered_products)"
      ],
      "metadata": {
        "colab": {
          "base_uri": "https://localhost:8080/"
        },
        "id": "iMH0-oA-f_ZH",
        "outputId": "73746aac-8aaa-4a51-eee6-99e376ea1f78"
      },
      "execution_count": 23,
      "outputs": [
        {
          "output_type": "stream",
          "name": "stdout",
          "text": [
            "Filtered Products: \n",
            " [{'name': 'Laptop', 'price': 55000, 'rating': 4.7}]\n"
          ]
        }
      ]
    },
    {
      "cell_type": "code",
      "source": [
        "# 3. Sort the product list by rating (descending)\n",
        "sorted_by_rating = sorted(products, key=lambda x: x[\"rating\"], reverse=True)\n",
        "print(\"Sorted Products: \\n\",sorted_by_rating)"
      ],
      "metadata": {
        "colab": {
          "base_uri": "https://localhost:8080/"
        },
        "id": "bMYNDOQBgLuX",
        "outputId": "989d2180-4291-43a3-d68e-e435d805a5e5"
      },
      "execution_count": 24,
      "outputs": [
        {
          "output_type": "stream",
          "name": "stdout",
          "text": [
            "Sorted Products: \n",
            " [{'name': 'Laptop', 'price': 55000, 'rating': 4.7}, {'name': 'Mobile', 'price': 12000, 'rating': 4.5}, {'name': 'Camera', 'price': 25000, 'rating': 4.2}, {'name': 'Tablet', 'price': 18000, 'rating': 4.0}]\n"
          ]
        }
      ]
    },
    {
      "cell_type": "markdown",
      "source": [
        "## Section 3: Frequency Dictionary + Set Operations"
      ],
      "metadata": {
        "id": "4U7Xf23AglNV"
      }
    },
    {
      "cell_type": "markdown",
      "source": [
        "Tasks:\n",
        "1. Count frequency of each word using a dictionary\n",
        "2. Print only the words that appear more than once\n",
        "3. Convert words into a set and print sorted unique words\n",
        "4. Find common words between:\n",
        "\n",
        "  set1 = set(text.split())\n",
        "\n",
        "  set2 = {\"ai\", \"ml\", \"data\", \"future\"}"
      ],
      "metadata": {
        "id": "cAH-Zp2eglBF"
      }
    },
    {
      "cell_type": "code",
      "source": [
        "text = \"ai is the future and ai will change everything in the ai world\"\n",
        "\n",
        "# 1. Count frequency of each word using a dictionary\n",
        "word_freq = {}\n",
        "for word in text.split():\n",
        "    if word in word_freq:\n",
        "        word_freq[word] += 1\n",
        "    else:\n",
        "        word_freq[word] = 1\n",
        "print(\"Frequency: \\n\",word_freq)"
      ],
      "metadata": {
        "colab": {
          "base_uri": "https://localhost:8080/"
        },
        "id": "TtJqGVQDgiZv",
        "outputId": "5962cc26-70a4-4ed8-c6c4-2772f46be03f"
      },
      "execution_count": 26,
      "outputs": [
        {
          "output_type": "stream",
          "name": "stdout",
          "text": [
            "Frequency: \n",
            " {'ai': 3, 'is': 1, 'the': 2, 'future': 1, 'and': 1, 'will': 1, 'change': 1, 'everything': 1, 'in': 1, 'world': 1}\n"
          ]
        }
      ]
    },
    {
      "cell_type": "code",
      "source": [
        "# 2. Print only the words that appear more than once\n",
        "print(\"Words that appear more than once: \\n\")\n",
        "for word, freq in word_freq.items():\n",
        "    if freq > 1:\n",
        "        print(word)"
      ],
      "metadata": {
        "colab": {
          "base_uri": "https://localhost:8080/"
        },
        "id": "gcXFILephShQ",
        "outputId": "5d175b26-6638-4d73-f8df-5f5417d6dada"
      },
      "execution_count": 27,
      "outputs": [
        {
          "output_type": "stream",
          "name": "stdout",
          "text": [
            "Words that appear more than once: \n",
            "\n",
            "ai\n",
            "the\n"
          ]
        }
      ]
    },
    {
      "cell_type": "code",
      "source": [
        "# 3. Convert words into a set and print sorted unique words\n",
        "unique_words = set(text.split())\n",
        "print(\"Sorted Unique Words: \\n\",sorted(unique_words))"
      ],
      "metadata": {
        "colab": {
          "base_uri": "https://localhost:8080/"
        },
        "id": "yE6mqMz3hZXn",
        "outputId": "91d73a33-0e94-4deb-8514-8a090f403865"
      },
      "execution_count": 28,
      "outputs": [
        {
          "output_type": "stream",
          "name": "stdout",
          "text": [
            "Sorted Unique Words: \n",
            " ['ai', 'and', 'change', 'everything', 'future', 'in', 'is', 'the', 'will', 'world']\n"
          ]
        }
      ]
    },
    {
      "cell_type": "code",
      "source": [
        "# 4. Find common words between:\n",
        "# set1 = set(text.split())\n",
        "# set2 = {\"ai\", \"ml\", \"data\", \"future\"}\n",
        "set1 = set(text.split())\n",
        "set2 = {\"ai\", \"ml\", \"data\", \"future\"}\n",
        "print(\"Common Words: \\n\",set1.intersection(set2))"
      ],
      "metadata": {
        "colab": {
          "base_uri": "https://localhost:8080/"
        },
        "id": "AQZC-_WZhlbk",
        "outputId": "d3b03c50-ee32-4fe9-9d2f-d34bde099a61"
      },
      "execution_count": 29,
      "outputs": [
        {
          "output_type": "stream",
          "name": "stdout",
          "text": [
            "Common Words: \n",
            " {'ai', 'future'}\n"
          ]
        }
      ]
    },
    {
      "cell_type": "markdown",
      "source": [
        "## Section 4: Dictionary Comprehension + Conditional Logic"
      ],
      "metadata": {
        "id": "Dpu3haSxh-6o"
      }
    },
    {
      "cell_type": "markdown",
      "source": [
        "Tasks:\n",
        "1. Create a new dictionary with 10% bonus added to each sale\n",
        "2. Filter and return only those with sales > 50,000\n",
        "3. Label each person as 'High' , 'Medium' , or 'Low' based on:\n",
        "\n",
        "    75,000: High\n",
        "\n",
        "    40,000: Medium\n",
        "\n",
        "    Else: Low"
      ],
      "metadata": {
        "id": "YG3mt7-eh-wo"
      }
    },
    {
      "cell_type": "code",
      "source": [
        "sales = {\n",
        "'Amit': 70000,\n",
        "'Sneha': 45000,\n",
        "'Ravi': 30000,\n",
        "'Anita': 90000,\n",
        "'Kabir': 20000\n",
        "}\n",
        "\n",
        "# 1. Create a new dictionary with 10% bonus added to each sale\n",
        "bonus_sales = {name: int(sale * 1.10) for name, sale in sales.items()}\n",
        "print(\"With 10% bonus:\\n\", bonus_sales)"
      ],
      "metadata": {
        "colab": {
          "base_uri": "https://localhost:8080/"
        },
        "id": "zu8D8zc-h6Y2",
        "outputId": "87b6da71-8e0e-45c3-a097-6dd288ac921f"
      },
      "execution_count": 34,
      "outputs": [
        {
          "output_type": "stream",
          "name": "stdout",
          "text": [
            "With 10% bonus:\n",
            " {'Amit': 77000, 'Sneha': 49500, 'Ravi': 33000, 'Anita': 99000, 'Kabir': 22000}\n"
          ]
        }
      ]
    },
    {
      "cell_type": "code",
      "source": [
        "# 2. Filter and return only those with sales > 50,000\n",
        "high_sales = {name: sale for name, sale in sales.items() if sale > 50000}\n",
        "print(\"Sales > 50,000:\\n\", high_sales)"
      ],
      "metadata": {
        "colab": {
          "base_uri": "https://localhost:8080/"
        },
        "id": "5uOPuZ3ZmrZG",
        "outputId": "8246fbb5-4101-4349-d7bb-8984cea92c53"
      },
      "execution_count": 36,
      "outputs": [
        {
          "output_type": "stream",
          "name": "stdout",
          "text": [
            "Sales > 50,000:\n",
            " {'Amit': 70000, 'Anita': 90000}\n"
          ]
        }
      ]
    },
    {
      "cell_type": "code",
      "source": [
        "# 3. Label each person as 'High' , 'Medium' , or 'Low' based on:\n",
        "# 75,000: High\n",
        "# 40,000: Medium\n",
        "# Else: Low\n",
        "labeled_sales = {name: (\"High\" if sale > 75000 else (\"Medium\" if sale > 40000 else \"Low\")) for name, sale in sales.items()}\n",
        "print(\"Labeled Sales:\\n\", labeled_sales)"
      ],
      "metadata": {
        "colab": {
          "base_uri": "https://localhost:8080/"
        },
        "id": "qIx3_7drnEWV",
        "outputId": "ee06c09c-4bac-4e8a-ebcb-bab6fca9f366"
      },
      "execution_count": 37,
      "outputs": [
        {
          "output_type": "stream",
          "name": "stdout",
          "text": [
            "Labeled Sales:\n",
            " {'Amit': 'Medium', 'Sneha': 'Medium', 'Ravi': 'Low', 'Anita': 'High', 'Kabir': 'Low'}\n"
          ]
        }
      ]
    },
    {
      "cell_type": "markdown",
      "source": [
        "## Section 5: Tuples, Sets, and Zipping"
      ],
      "metadata": {
        "id": "SXNI1qxknWT7"
      }
    },
    {
      "cell_type": "markdown",
      "source": [
        "Tasks:\n",
        "1. Convert both tuples to a dictionary using zip()\n",
        "2. Find min and max marks\n",
        "3. Create a set from marks and add a new value\n",
        "4. Merge two sets and show only unique elements"
      ],
      "metadata": {
        "id": "o4ykQCNlnWJ2"
      }
    },
    {
      "cell_type": "code",
      "source": [
        "names = (\"Ravi\", \"Sneha\", \"Kabir\")\n",
        "marks = (88, 92, 76)\n",
        "\n",
        "# 1. Convert both tuples to a dictionary using zip()\n",
        "student_marks = dict(zip(names, marks))\n",
        "print(\"Student Marks:\\n\", student_marks)"
      ],
      "metadata": {
        "colab": {
          "base_uri": "https://localhost:8080/"
        },
        "id": "bYBGQN-knV3I",
        "outputId": "047704e1-0dce-4f4e-f9a8-7f3c21ec2a77"
      },
      "execution_count": 38,
      "outputs": [
        {
          "output_type": "stream",
          "name": "stdout",
          "text": [
            "Student Marks:\n",
            " {'Ravi': 88, 'Sneha': 92, 'Kabir': 76}\n"
          ]
        }
      ]
    },
    {
      "cell_type": "code",
      "source": [
        "# 2. Find min and max marks\n",
        "min_mark = min(student_marks.values())\n",
        "max_mark = max(student_marks.values())\n",
        "print(\"Min Mark: \", min_mark)\n",
        "print(\"Max Mark: \", max_mark)"
      ],
      "metadata": {
        "colab": {
          "base_uri": "https://localhost:8080/"
        },
        "id": "bH5iekBdnplM",
        "outputId": "cea53db4-ef36-4dbb-93b3-4576c1ab88b2"
      },
      "execution_count": 39,
      "outputs": [
        {
          "output_type": "stream",
          "name": "stdout",
          "text": [
            "Min Mark:  76\n",
            "Max Mark:  92\n"
          ]
        }
      ]
    },
    {
      "cell_type": "code",
      "source": [
        "# 3. Create a set from marks and add a new value\n",
        "mark_set = set(marks)\n",
        "mark_set.add(85)\n",
        "print(\"Marks set after adding:\\n\", mark_set)"
      ],
      "metadata": {
        "colab": {
          "base_uri": "https://localhost:8080/"
        },
        "id": "gEceEfrln16G",
        "outputId": "cf81109f-e0cf-40c0-a03b-8b2c4f9f8116"
      },
      "execution_count": 40,
      "outputs": [
        {
          "output_type": "stream",
          "name": "stdout",
          "text": [
            "Marks set after adding:\n",
            " {88, 92, 85, 76}\n"
          ]
        }
      ]
    },
    {
      "cell_type": "code",
      "source": [
        "# 4. Merge two sets and show only unique elements\n",
        "new_marks = {90, 76, 95}\n",
        "merged_set = mark_set.union(new_marks)\n",
        "print(\"Merged unique marks:\\n\", merged_set)"
      ],
      "metadata": {
        "colab": {
          "base_uri": "https://localhost:8080/"
        },
        "id": "otHpLnV7oBT5",
        "outputId": "9ecdb547-3889-436a-f4ec-a97cfc1c500c"
      },
      "execution_count": 42,
      "outputs": [
        {
          "output_type": "stream",
          "name": "stdout",
          "text": [
            "Merged unique marks:\n",
            " {85, 88, 90, 92, 95, 76}\n"
          ]
        }
      ]
    },
    {
      "cell_type": "markdown",
      "source": [
        "## Bonus Challenge"
      ],
      "metadata": {
        "id": "60JJ-0ycoTWG"
      }
    },
    {
      "cell_type": "markdown",
      "source": [
        "Tasks:\n",
        "1. Add a new employee \"E104\"\n",
        "2. Increase salary by 10% for Engineering department only\n",
        "3. Find the department with the highest average salary"
      ],
      "metadata": {
        "id": "tC4K0xULoWvi"
      }
    },
    {
      "cell_type": "code",
      "source": [
        "employees = {\n",
        "\"E101\": {\"name\": \"Ravi\", \"dept\": \"Sales\", \"salary\": 50000},\n",
        "\"E102\": {\"name\": \"Sneha\", \"dept\": \"Engineering\", \"salary\": 80000},\n",
        "\"E103\": {\"name\": \"Kabir\", \"dept\": \"HR\", \"salary\": 45000}\n",
        "}\n",
        "\n",
        "# 1. Add a new employee \"E104\"\n",
        "employees[\"E104\"] = {\"name\": \"Anita\", \"dept\": \"Engineering\", \"salary\": 75000}\n",
        "print(\"Employees after adding E104:\\n\", employees)"
      ],
      "metadata": {
        "colab": {
          "base_uri": "https://localhost:8080/"
        },
        "id": "WU_zbjgdoLlo",
        "outputId": "7f075831-2283-403a-9fcb-1bcecd9a724f"
      },
      "execution_count": 43,
      "outputs": [
        {
          "output_type": "stream",
          "name": "stdout",
          "text": [
            "Employees after adding E104:\n",
            " {'E101': {'name': 'Ravi', 'dept': 'Sales', 'salary': 50000}, 'E102': {'name': 'Sneha', 'dept': 'Engineering', 'salary': 80000}, 'E103': {'name': 'Kabir', 'dept': 'HR', 'salary': 45000}, 'E104': {'name': 'Anita', 'dept': 'Engineering', 'salary': 75000}}\n"
          ]
        }
      ]
    },
    {
      "cell_type": "code",
      "source": [
        "# 2. Increase salary by 10% for Engineering department only\n",
        "for emp_id, emp_details in employees.items():\n",
        "    if emp_details[\"dept\"] == \"Engineering\":\n",
        "        emp_details[\"salary\"] *= 1.10\n",
        "print(\"Employees after increasing salary:\\n\", employees)"
      ],
      "metadata": {
        "colab": {
          "base_uri": "https://localhost:8080/"
        },
        "id": "56zIJy6ioh_O",
        "outputId": "a82ab2bd-e866-490a-bc6a-8925dccb962c"
      },
      "execution_count": 44,
      "outputs": [
        {
          "output_type": "stream",
          "name": "stdout",
          "text": [
            "Employees after increasing salary:\n",
            " {'E101': {'name': 'Ravi', 'dept': 'Sales', 'salary': 50000}, 'E102': {'name': 'Sneha', 'dept': 'Engineering', 'salary': 88000.0}, 'E103': {'name': 'Kabir', 'dept': 'HR', 'salary': 45000}, 'E104': {'name': 'Anita', 'dept': 'Engineering', 'salary': 82500.0}}\n"
          ]
        }
      ]
    },
    {
      "cell_type": "code",
      "source": [
        "# 3. Find the department with the highest average salary\n",
        "from collections import defaultdict\n",
        "\n",
        "dept_salaries = defaultdict(list)\n",
        "for emp in employees.values():\n",
        "    dept_salaries[emp[\"dept\"]].append(emp[\"salary\"])\n",
        "\n",
        "avg_salaries = {dept: sum(sals)/len(sals) for dept, sals in dept_salaries.items()}\n",
        "highest_avg_dept = max(avg_salaries, key=avg_salaries.get)\n",
        "print(\"Highest average salary department:\\n\", highest_avg_dept)"
      ],
      "metadata": {
        "colab": {
          "base_uri": "https://localhost:8080/"
        },
        "id": "C9eQxXf2ouQq",
        "outputId": "a7c5db8f-14f5-471b-8d87-a14b111b468c"
      },
      "execution_count": 45,
      "outputs": [
        {
          "output_type": "stream",
          "name": "stdout",
          "text": [
            "Highest average salary department:\n",
            " Engineering\n"
          ]
        }
      ]
    }
  ]
}